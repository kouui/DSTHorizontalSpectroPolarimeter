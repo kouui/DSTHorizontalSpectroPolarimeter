{
 "cells": [
  {
   "cell_type": "code",
   "execution_count": 1,
   "metadata": {
    "ExecuteTime": {
     "end_time": "2018-04-14T14:53:00.299492Z",
     "start_time": "2018-04-14T14:52:59.801232Z"
    }
   },
   "outputs": [],
   "source": [
    "%matplotlib inline"
   ]
  },
  {
   "cell_type": "code",
   "execution_count": 86,
   "metadata": {
    "ExecuteTime": {
     "end_time": "2018-04-15T07:33:34.035807Z",
     "start_time": "2018-04-15T07:33:34.029702Z"
    }
   },
   "outputs": [],
   "source": [
    "import numpy as np\n",
    "import lmfit\n",
    "from scipy.io import readsav\n",
    "import matplotlib.pyplot as plt"
   ]
  },
  {
   "cell_type": "code",
   "execution_count": 11,
   "metadata": {
    "ExecuteTime": {
     "end_time": "2018-04-14T15:10:35.997224Z",
     "start_time": "2018-04-14T15:10:35.992918Z"
    }
   },
   "outputs": [],
   "source": [
    "from DSTPolarimeterLib import MuellerMatrixMirror, MuellerMatrixRotation"
   ]
  },
  {
   "cell_type": "code",
   "execution_count": 14,
   "metadata": {
    "ExecuteTime": {
     "end_time": "2018-04-14T15:11:47.757442Z",
     "start_time": "2018-04-14T15:11:47.753400Z"
    }
   },
   "outputs": [],
   "source": [
    "#--- dtor * deg = rad\n",
    "dtor = 0.017453292519943295"
   ]
  },
  {
   "cell_type": "markdown",
   "metadata": {},
   "source": [
    "---"
   ]
  },
  {
   "cell_type": "code",
   "execution_count": 62,
   "metadata": {
    "ExecuteTime": {
     "end_time": "2018-04-14T16:04:53.447491Z",
     "start_time": "2018-04-14T16:04:53.402818Z"
    }
   },
   "outputs": [],
   "source": [
    "def residual(par, mmHSP, mm_ir, sigma):\n",
    "    \n",
    "    mmHSP_model = model(par, mm_ir)\n",
    "    \n",
    "    return (mmHSP_model - mmHSP) / sigma\n",
    "\n",
    "def model(par, mm_ir):\n",
    "    \n",
    "    mm_45 = MuellerMatrixMirror(par[\"mir_delta\"].value*dtor, par[\"mir_p\"].value, gen=True)\n",
    "    mm_45 /= mm_45[0,0]\n",
    "    \n",
    "    # depolarization\n",
    "    mm_45[1,1] -= par[\"mir_depol\"].value\n",
    "    # QU component\n",
    "    mm_45[1,2] += par[\"mir_QU\"].value\n",
    "    mm_45[2,1] += par[\"mir_QU\"].value\n",
    "    # difference between [0,1] and [1,0]\n",
    "    mm_45[0,1] += par[\"mir_pConst\"].value\n",
    "    mm_45[1,0] -= par[\"mir_pConst\"].value\n",
    "    \n",
    "    # 以下两行只改变了delta的符号，因为其余符号被反的位置数值上都是0\n",
    "    mm_45[3,:] = -mm_45[3,:]\n",
    "    mm_45[:,3] = -mm_45[:,3]\n",
    "    \n",
    "    #\n",
    "    mat = mm_45 @ MuellerMatrixRotation(par[\"th_dst2mm45\"].value*dtor)\n",
    "    mat = MuellerMatrixRotation(par[\"th_mm452mmir\"].value*dtor) @ mat\n",
    "    mat = MuellerMatrixRotation(par[\"th_mmir2hsp\"].value*dtor) @ mm_ir @ mat\n",
    "    \n",
    "    sc = par[\"sc\"].value\n",
    "    mat = np.array([\n",
    "        [1+sc, 0, 0, 0],\n",
    "        [0   , 1, 0, 0],\n",
    "        [0   , 0, 1, 0],\n",
    "        [0   , 0, 0, 1]\n",
    "    ]) @ mat\n",
    "    \n",
    "    mat /= mat[0,0]\n",
    "    \n",
    "    return mat"
   ]
  },
  {
   "cell_type": "markdown",
   "metadata": {},
   "source": [
    "fitted Mueller Matrix of HSP"
   ]
  },
  {
   "cell_type": "code",
   "execution_count": 4,
   "metadata": {
    "ExecuteTime": {
     "end_time": "2018-04-14T15:00:01.257246Z",
     "start_time": "2018-04-14T15:00:01.249274Z"
    }
   },
   "outputs": [],
   "source": [
    "mmHSP = np.array([\n",
    "    [1., -0.03454526, -0.02421685, 0.02406610],\n",
    "    [0.02891437, -0.23698555, -0.95226598, 0.04610067],\n",
    "    [0.02636235, -0.59941919, 0.14209622, 0.68590858],\n",
    "    [0.01450438, -0.72102226, 0.12382938, -0.65461389]\n",
    "], dtype=np.float64)"
   ]
  },
  {
   "cell_type": "markdown",
   "metadata": {},
   "source": [
    "Mueller Matrix of image rotator"
   ]
  },
  {
   "cell_type": "raw",
   "metadata": {
    "ExecuteTime": {
     "end_time": "2018-04-14T15:07:06.177962Z",
     "start_time": "2018-04-14T15:07:04.865521Z"
    }
   },
   "source": [
    "savFile = readsav(\"/nwork/kouui/dstsp/data/calibration/20171128/camera01/cale_iquv0000.sav\")"
   ]
  },
  {
   "cell_type": "code",
   "execution_count": 107,
   "metadata": {
    "ExecuteTime": {
     "end_time": "2018-04-15T08:14:43.163355Z",
     "start_time": "2018-04-15T08:14:43.078512Z"
    }
   },
   "outputs": [
    {
     "name": "stdout",
     "output_type": "stream",
     "text": [
      "posWave : 812, posAngle : 77\n"
     ]
    }
   ],
   "source": [
    "wave = 8600\n",
    "imgrot = np.deg2rad(-59.462886810302734)\n",
    "npzFile = np.load(\"/nwork/kouui/dstsp/data/calibration/save/mmirFilter.npz\")\n",
    "posWave = np.argmin( abs(npzFile[\"wlFilter\"]*10-wave) )  # nm to angstrom\n",
    "angleArray = np.deg2rad( npzFile[\"angleArray\"] )\n",
    "posAngle = np.argmin( abs(angleArray-imgrot) )\n",
    "\n",
    "print(\"posWave : {}, posAngle : {}\".format(posWave, posAngle))\n",
    "\n",
    "dangle = imgrot - angleArray[posAngle]\n",
    "mm_ir = MuellerMatrixRotation(dangle) @ npzFile[\"mmsFilter\"][posWave,posAngle,:,:] @ MuellerMatrixRotation(-dangle)"
   ]
  },
  {
   "cell_type": "code",
   "execution_count": 108,
   "metadata": {
    "ExecuteTime": {
     "end_time": "2018-04-15T08:14:49.044135Z",
     "start_time": "2018-04-15T08:14:49.037104Z"
    }
   },
   "outputs": [
    {
     "data": {
      "text/plain": [
       "array([[ 1.        ,  0.00882659, -0.02598109, -0.00823799],\n",
       "       [ 0.02498366,  0.6794385 , -0.16506339, -0.78942546],\n",
       "       [-0.01289528, -0.1819202 ,  0.96659989, -0.37748578],\n",
       "       [ 0.00271338,  0.78516071,  0.37225199,  0.55090527]])"
      ]
     },
     "execution_count": 108,
     "metadata": {},
     "output_type": "execute_result"
    }
   ],
   "source": [
    "mm_ir"
   ]
  },
  {
   "cell_type": "code",
   "execution_count": 30,
   "metadata": {
    "ExecuteTime": {
     "end_time": "2018-04-14T15:37:07.359515Z",
     "start_time": "2018-04-14T15:37:07.355889Z"
    }
   },
   "outputs": [],
   "source": [
    "del npzFile"
   ]
  },
  {
   "cell_type": "markdown",
   "metadata": {},
   "source": [
    "Mueller Matrix of mirror"
   ]
  },
  {
   "cell_type": "code",
   "execution_count": 15,
   "metadata": {
    "ExecuteTime": {
     "end_time": "2018-04-14T15:12:42.697743Z",
     "start_time": "2018-04-14T15:12:42.694482Z"
    }
   },
   "outputs": [],
   "source": [
    "# we try different model for mm_45"
   ]
  },
  {
   "cell_type": "markdown",
   "metadata": {},
   "source": [
    "fitting parameters"
   ]
  },
  {
   "cell_type": "code",
   "execution_count": 68,
   "metadata": {
    "ExecuteTime": {
     "end_time": "2018-04-14T16:06:30.702300Z",
     "start_time": "2018-04-14T16:06:30.689288Z"
    }
   },
   "outputs": [],
   "source": [
    "par = lmfit.Parameters()\n",
    "par.add( \"th_dst2mm45\", value=0, min=-180, max=180, vary=True)\n",
    "par.add( \"th_mm452mmir\", value=90, min=-180, max=180, vary=True)\n",
    "par.add( \"th_mmir2hsp\", value=0, min=-180, max=180, vary=True)\n",
    "par.add( \"sc\", value=0.0, min=0, max=0.2, vary=True)\n",
    "par.add( \"mir_p\", value= -0.0304, min=-1, max=1, vary=True)\n",
    "par.add( \"mir_delta\", value=30.447, min=-180, max=180, vary=True)  # deg\n",
    "par.add( \"mir_depol\", value=0.0, min=0, max=1, vary=False)\n",
    "par.add( \"mir_QU\", value=0.0, min=-0.5, max=0.5, vary=False)\n",
    "par.add( \"mir_pConst\", value=0.0, min=-0.2, max=0.2, vary=False)"
   ]
  },
  {
   "cell_type": "markdown",
   "metadata": {},
   "source": [
    "fitting error"
   ]
  },
  {
   "cell_type": "code",
   "execution_count": 90,
   "metadata": {
    "ExecuteTime": {
     "end_time": "2018-04-15T07:37:23.910224Z",
     "start_time": "2018-04-15T07:37:23.905688Z"
    }
   },
   "outputs": [],
   "source": [
    "sigma = np.ones((4,4))"
   ]
  },
  {
   "cell_type": "markdown",
   "metadata": {},
   "source": [
    "start fitting"
   ]
  },
  {
   "cell_type": "code",
   "execution_count": 69,
   "metadata": {
    "ExecuteTime": {
     "end_time": "2018-04-14T16:06:38.365337Z",
     "start_time": "2018-04-14T16:06:38.320553Z"
    }
   },
   "outputs": [
    {
     "name": "stdout",
     "output_type": "stream",
     "text": [
      "[[Fit Statistics]]\n",
      "    # function evals   = 143\n",
      "    # data points      = 16\n",
      "    # variables        = 6\n",
      "    chi-square         = 27678.133\n",
      "    reduced chi-square = 2767.813\n",
      "    Akaike info crit   = 131.293\n",
      "    Bayesian info crit = 135.928\n",
      "[[Variables]]\n",
      "    th_dst2mm45:    7.21105220 +/- 0        (0.00%) (init= 0)\n",
      "    th_mm452mmir:   95.2831177 +/- 0        (0.00%) (init= 90)\n",
      "    th_mmir2hsp:   -39.8977229 +/- 0        (0.00%) (init= 0)\n",
      "    sc:             0          +/- 0        (nan%) (init= 0)\n",
      "    mir_p:         -0.02289207 +/- 0        (0.00%) (init=-0.0304)\n",
      "    mir_delta:      16.6011343 +/- 0        (0.00%) (init= 30.447)\n",
      "    mir_depol:      0 (fixed)\n",
      "    mir_QU:         0 (fixed)\n",
      "    mir_pConst:     0 (fixed)\n"
     ]
    },
    {
     "name": "stderr",
     "output_type": "stream",
     "text": [
      "/home/kouui/virtualenvs/python35/lib/python3.5/site-packages/lmfit/printfuncs.py:140: RuntimeWarning: invalid value encountered in double_scalars\n",
      "  spercent = '({0:.2%})'.format(abs(par.stderr/par.value))\n"
     ]
    }
   ],
   "source": [
    "result = lmfit.minimize(residual, par, args=(mmHSP, mm_ir, sigma),method='leastsq', ftol=1E-12, xtol=1E-12)\n",
    "lmfit.report_fit(result)"
   ]
  },
  {
   "cell_type": "markdown",
   "metadata": {},
   "source": [
    "origin"
   ]
  },
  {
   "cell_type": "code",
   "execution_count": 70,
   "metadata": {
    "ExecuteTime": {
     "end_time": "2018-04-14T16:06:41.197954Z",
     "start_time": "2018-04-14T16:06:41.190885Z"
    }
   },
   "outputs": [
    {
     "data": {
      "text/plain": [
       "array([[ 0.        ,  0.00448847, -0.00474118, -0.00934518],\n",
       "       [-0.00095146,  0.0108648 , -0.07314988, -0.00840923],\n",
       "       [ 0.01021624, -0.09519374,  0.05202496,  0.08647849],\n",
       "       [ 0.00430975, -0.0427016 ,  0.02161341, -0.01863115]])"
      ]
     },
     "execution_count": 70,
     "metadata": {},
     "output_type": "execute_result"
    }
   ],
   "source": [
    "result.residual.reshape(4,4) * sigma"
   ]
  },
  {
   "cell_type": "markdown",
   "metadata": {},
   "source": [
    "with `depol`"
   ]
  },
  {
   "cell_type": "code",
   "execution_count": 53,
   "metadata": {
    "ExecuteTime": {
     "end_time": "2018-04-14T15:52:00.662239Z",
     "start_time": "2018-04-14T15:52:00.654983Z"
    }
   },
   "outputs": [
    {
     "data": {
      "text/plain": [
       "array([[ 0.        ,  0.01598738,  0.01115057, -0.02189748],\n",
       "       [-0.01174474, -0.03593874, -0.04146636, -0.00955769],\n",
       "       [-0.002117  , -0.04135916,  0.00539744,  0.090765  ],\n",
       "       [ 0.00506408,  0.01677387, -0.03305   , -0.02247056]])"
      ]
     },
     "execution_count": 53,
     "metadata": {},
     "output_type": "execute_result"
    }
   ],
   "source": [
    "result.residual.reshape(4,4) * sigma"
   ]
  },
  {
   "cell_type": "markdown",
   "metadata": {},
   "source": [
    "with `depol` and `QU`"
   ]
  },
  {
   "cell_type": "code",
   "execution_count": 67,
   "metadata": {
    "ExecuteTime": {
     "end_time": "2018-04-14T16:06:15.377390Z",
     "start_time": "2018-04-14T16:06:15.372312Z"
    }
   },
   "outputs": [
    {
     "data": {
      "text/plain": [
       "array([[ 0.        ,  0.01787846,  0.02420255,  0.00117319],\n",
       "       [-0.03766389, -0.00865181, -0.07173503,  0.00513126],\n",
       "       [ 0.00404433, -0.02063702,  0.01196712,  0.08476418],\n",
       "       [-0.00824356,  0.03449218, -0.00021339, -0.0260496 ]])"
      ]
     },
     "execution_count": 67,
     "metadata": {},
     "output_type": "execute_result"
    }
   ],
   "source": [
    "result.residual.reshape(4,4) * sigma"
   ]
  },
  {
   "cell_type": "markdown",
   "metadata": {},
   "source": [
    "with `depol`, `QU`, `pConst`"
   ]
  },
  {
   "cell_type": "code",
   "execution_count": 61,
   "metadata": {
    "ExecuteTime": {
     "end_time": "2018-04-14T15:58:16.017646Z",
     "start_time": "2018-04-14T15:58:16.009882Z"
    }
   },
   "outputs": [
    {
     "data": {
      "text/plain": [
       "array([[ 0.        ,  0.01040839,  0.02357508,  0.00017655],\n",
       "       [-0.03324022, -0.01648263, -0.06986656,  0.01187595],\n",
       "       [ 0.00479372,  0.00021814, -0.00469058,  0.05787638],\n",
       "       [-0.00849887,  0.00291082,  0.00377151, -0.05119571]])"
      ]
     },
     "execution_count": 61,
     "metadata": {},
     "output_type": "execute_result"
    }
   ],
   "source": [
    "result.residual.reshape(4,4) * sigma"
   ]
  },
  {
   "cell_type": "markdown",
   "metadata": {},
   "source": [
    "---"
   ]
  },
  {
   "cell_type": "markdown",
   "metadata": {},
   "source": [
    "try fitting with free mirror and image rotator"
   ]
  },
  {
   "cell_type": "code",
   "execution_count": 264,
   "metadata": {
    "ExecuteTime": {
     "end_time": "2018-04-15T12:01:01.841102Z",
     "start_time": "2018-04-15T12:01:01.606420Z"
    },
    "code_folding": [
     0
    ]
   },
   "outputs": [],
   "source": [
    "def residual(par, mmHSP):\n",
    "    \n",
    "    mmHSP_model = model(par)\n",
    "    \n",
    "    return (mmHSP_model - mmHSP)\n",
    "\n",
    "def model(par):\n",
    "    \n",
    "    #--- mm_45\n",
    "    mm_45 = MuellerMatrixMirror(par[\"mir_delta\"].value*dtor, par[\"mir_p\"].value, gen=True)\n",
    "    mm_45 /= mm_45[0,0]\n",
    "    \n",
    "    # depolarization\n",
    "    mm_45[1,1] -= par[\"mir_depol\"].value\n",
    "    # QU component\n",
    "    mm_45[1,2] += par[\"mir_QU\"].value\n",
    "    mm_45[2,1] += par[\"mir_QU\"].value\n",
    "    # UV component\n",
    "    mm_45[1,3] += par[\"mir_UV\"].value\n",
    "    mm_45[3,1] += par[\"mir_UV\"].value\n",
    "    # difference between [0,1] and [1,0]\n",
    "    mm_45[0,1] += par[\"mir_pConst\"].value\n",
    "    mm_45[1,0] -= par[\"mir_pConst\"].value\n",
    "    \n",
    "    # 以下两行只改变了delta的符号，因为其余符号被反的位置数值上都是0\n",
    "    mm_45[3,:] = -mm_45[3,:]\n",
    "    mm_45[:,3] = -mm_45[:,3]\n",
    "    \n",
    "    #--- mm_ir\n",
    "    # mm_ir = np.array([\n",
    "    #     [1                , par[\"ir_B\"].value      , 0                ,                 0],\n",
    "    #     [par[\"ir_B\"].value, 1-par[\"ir_depol\"].value, 0                ,                 0],\n",
    "    #     [0                , 0                      , par[\"ir_C\"].value, par[\"ir_D\"].value],\n",
    "    #     [0                , 0                      ,-par[\"ir_D\"].value, par[\"ir_C\"].value]\n",
    "    # ])\n",
    "    mm_ir = MuellerMatrixMirror(par[\"ir_delta\"].value*dtor, par[\"ir_p\"].value, gen=True)\n",
    "    mm_ir /= mm_ir[0,0]\n",
    "    \n",
    "    # depolarization\n",
    "    mm_ir[1,1] -= par[\"ir_depol\"].value\n",
    "    # QU component\n",
    "    mm_ir[1,2] += par[\"ir_QU\"].value\n",
    "    mm_ir[2,1] -= par[\"ir_QU\"].value\n",
    "    # UV component\n",
    "    mm_ir[1,3] += par[\"ir_UV\"].value\n",
    "    mm_ir[3,1] -= par[\"ir_UV\"].value\n",
    "    \n",
    "    dangle = (-59.4628868-0) * dtor\n",
    "    mm_ir = MuellerMatrixRotation(dangle) @ mm_ir @ MuellerMatrixRotation(-dangle)\n",
    "    \n",
    "    #\n",
    "    mat = mm_45 @ MuellerMatrixRotation(par[\"th_dst2mm45\"].value*dtor)\n",
    "    mat = MuellerMatrixRotation(par[\"th_mm452mmir\"].value*dtor) @ mat\n",
    "    mat = MuellerMatrixRotation(par[\"th_mmir2hsp\"].value*dtor) @ mm_ir @ mat\n",
    "    \n",
    "    sc = par[\"sc\"].value\n",
    "    mat = np.array([\n",
    "        [1+sc, 0, 0, 0],\n",
    "        [0   , 1, 0, 0],\n",
    "        [0   , 0, 1, 0],\n",
    "        [0   , 0, 0, 1]\n",
    "    ]) @ mat\n",
    "    \n",
    "    mat /= mat[0,0]\n",
    "    \n",
    "    return mat\n",
    "\n",
    "par = lmfit.Parameters()\n",
    "par.add( \"th_dst2mm45\", value=-1.4, min=-20, max=20, vary=True)\n",
    "par.add( \"th_mm452mmir\", value=89.93, min=70, max=110, vary=True)\n",
    "par.add( \"th_mmir2hsp\", value=(88.2 - 131.2), min=(88.2 - 131.2)-20, max=(88.2 - 131.2)+20, vary=True)\n",
    "par.add( \"sc\", value=0.0, min=0, max=0.2, vary=True)\n",
    "\n",
    "par.add( \"mir_p\", value= -0.0304, min=-0.1, max=0.1, vary=True)\n",
    "par.add( \"mir_delta\", value=30.447, min=10, max=50, vary=True)  # deg\n",
    "par.add( \"mir_depol\", value=0.0, min=0, max=0.1, vary=False)\n",
    "par.add( \"mir_QU\", value=0.0, min=-0.1, max=0.1, vary=True)\n",
    "par.add( \"mir_UV\", value=0.0, min=-0.1, max=0.1, vary=True)\n",
    "par.add( \"mir_pConst\", value=0.0, min=-0.2, max=0.2, vary=False)\n",
    "\n",
    "\n",
    "par.add( \"ir_p\", value= 0.1, min=-0.2, max=0.2, vary=True)\n",
    "par.add( \"ir_delta\", value= -120, min=-140, max=-100, vary=True)\n",
    "par.add( \"ir_depol\", value=0.0, min=0, max=1, vary=False)\n",
    "par.add( \"ir_QU\", value=0.0, min=-0.1, max=0.1, vary=False)\n",
    "par.add( \"ir_UV\", value=0.0, min=-0.1, max=0.1, vary=False)"
   ]
  },
  {
   "cell_type": "code",
   "execution_count": 265,
   "metadata": {
    "ExecuteTime": {
     "end_time": "2018-04-15T12:01:02.476538Z",
     "start_time": "2018-04-15T12:01:02.367538Z"
    }
   },
   "outputs": [
    {
     "name": "stdout",
     "output_type": "stream",
     "text": [
      "[[Fit Statistics]]\n",
      "    # function evals   = 290\n",
      "    # data points      = 16\n",
      "    # variables        = 10\n",
      "    chi-square         = 0.005\n",
      "    reduced chi-square = 0.001\n",
      "    Akaike info crit   = -108.036\n",
      "    Bayesian info crit = -100.310\n",
      "[[Variables]]\n",
      "    th_dst2mm45:   -0.43992803 +/- 0        (0.00%) (init=-1.4)\n",
      "    th_mm452mmir:   96.9794016 +/- 0        (0.00%) (init= 89.93)\n",
      "    th_mmir2hsp:   -55.4216284 +/- 0        (0.00%) (init=-43)\n",
      "    sc:             0          +/- 0        (nan%) (init= 0)\n",
      "    mir_p:         -0.01140834 +/- 0        (0.00%) (init=-0.0304)\n",
      "    mir_delta:      50         +/- 0        (0.00%) (init= 30.447)\n",
      "    mir_depol:      0 (fixed)\n",
      "    mir_QU:         0.07481150 +/- 0        (0.00%) (init= 0)\n",
      "    mir_UV:         0.02579932 +/- 0        (0.00%) (init= 0)\n",
      "    mir_pConst:     0 (fixed)\n",
      "    ir_p:          -0.03804144 +/- 0        (0.00%) (init= 0.1)\n",
      "    ir_delta:      -109.140235 +/- 0        (0.00%) (init=-120)\n",
      "    ir_depol:       0 (fixed)\n",
      "    ir_QU:          0 (fixed)\n",
      "    ir_UV:          0 (fixed)\n"
     ]
    }
   ],
   "source": [
    "result = lmfit.minimize(residual, par, args=(mmHSP,),method='leastsq', ftol=1E-10, xtol=1E-10)\n",
    "lmfit.report_fit(result)"
   ]
  },
  {
   "cell_type": "code",
   "execution_count": 266,
   "metadata": {
    "ExecuteTime": {
     "end_time": "2018-04-15T12:01:07.041710Z",
     "start_time": "2018-04-15T12:01:07.036670Z"
    }
   },
   "outputs": [
    {
     "name": "stdout",
     "output_type": "stream",
     "text": [
      "[[ 0.         -0.00095616  0.00491299 -0.00205342]\n",
      " [-0.00142928 -0.00502116 -0.02866979 -0.0098449 ]\n",
      " [ 0.01036552 -0.02615006  0.01707319  0.04136372]\n",
      " [-0.0066153  -0.02521073 -0.00218629 -0.03003399]]\n"
     ]
    }
   ],
   "source": [
    "print(result.residual.reshape(4,4))"
   ]
  },
  {
   "cell_type": "markdown",
   "metadata": {},
   "source": [
    "---\n",
    "\n",
    "try fitting with experiment result"
   ]
  },
  {
   "cell_type": "code",
   "execution_count": 109,
   "metadata": {
    "ExecuteTime": {
     "end_time": "2018-04-15T08:21:14.942374Z",
     "start_time": "2018-04-15T08:21:14.833535Z"
    }
   },
   "outputs": [],
   "source": [
    "def residual(par, mmHSP):\n",
    "    \n",
    "    mmHSP_model = model(par)\n",
    "    \n",
    "    return (mmHSP_model - mmHSP)\n",
    "\n",
    "def model(par):\n",
    "    \n",
    "    #--- mm_45\n",
    "    mm_45 = np.array([\n",
    "        [ 1.        , -0.02789666, -0.00278582, -0.01912723],\n",
    "        [-0.03455996,  0.98631785, -0.09857136, -0.00230055],\n",
    "        [ 0.00451821, -0.09321724, -0.8493866 , -0.50052879],\n",
    "        [-0.00378543,  0.01900469,  0.50651627, -0.8551463 ]\n",
    "    ])\n",
    "\n",
    "    # 以下两行只改变了delta的符号，因为其余符号被反的位置数值上都是0\n",
    "    mm_45[3,:] = -mm_45[3,:]\n",
    "    mm_45[:,3] = -mm_45[:,3]\n",
    "    \n",
    "    #--- mm_ir\n",
    "    mm_ir = np.array([\n",
    "        [ 1.        ,  0.00882659, -0.02598109, -0.00823799],\n",
    "        [ 0.02498366,  0.6794385 , -0.16506339, -0.78942546],\n",
    "        [-0.01289528, -0.1819202 ,  0.96659989, -0.37748578],\n",
    "        [ 0.00271338,  0.78516071,  0.37225199,  0.55090527]\n",
    "    ])\n",
    "    \n",
    "    #\n",
    "    mat = mm_45 @ MuellerMatrixRotation(par[\"th_dst2mm45\"].value*dtor)\n",
    "    mat = MuellerMatrixRotation(par[\"th_mm452mmir\"].value*dtor) @ mat\n",
    "    mat = MuellerMatrixRotation(par[\"th_mmir2hsp\"].value*dtor) @ mm_ir @ mat\n",
    "    \n",
    "    sc = par[\"sc\"].value\n",
    "    mat = np.array([\n",
    "        [1+sc, 0, 0, 0],\n",
    "        [0   , 1, 0, 0],\n",
    "        [0   , 0, 1, 0],\n",
    "        [0   , 0, 0, 1]\n",
    "    ]) @ mat\n",
    "    \n",
    "    mat /= mat[0,0]\n",
    "    \n",
    "    return mat\n",
    "\n",
    "par = lmfit.Parameters()\n",
    "par.add( \"th_dst2mm45\", value=0, min=-180, max=180, vary=True)\n",
    "par.add( \"th_mm452mmir\", value=90, min=-180, max=180, vary=True)\n",
    "par.add( \"th_mmir2hsp\", value=0, min=-180, max=180, vary=True)\n",
    "par.add( \"sc\", value=0.0, min=0, max=0.2, vary=True)"
   ]
  },
  {
   "cell_type": "code",
   "execution_count": 110,
   "metadata": {
    "ExecuteTime": {
     "end_time": "2018-04-15T08:21:29.240409Z",
     "start_time": "2018-04-15T08:21:29.213539Z"
    }
   },
   "outputs": [
    {
     "name": "stdout",
     "output_type": "stream",
     "text": [
      "[[Fit Statistics]]\n",
      "    # function evals   = 53\n",
      "    # data points      = 16\n",
      "    # variables        = 4\n",
      "    chi-square         = 0.028\n",
      "    reduced chi-square = 0.002\n",
      "    Akaike info crit   = -93.386\n",
      "    Bayesian info crit = -90.295\n",
      "[[Variables]]\n",
      "    th_dst2mm45:   -1.40194677 +/- 0        (0.00%) (init= 0)\n",
      "    th_mm452mmir:   89.9317740 +/- 0        (0.00%) (init= 90)\n",
      "    th_mmir2hsp:   -49.5118590 +/- 0        (0.00%) (init= 0)\n",
      "    sc:             0          +/- 0        (nan%) (init= 0)\n"
     ]
    }
   ],
   "source": [
    "result = lmfit.minimize(residual, par, args=(mmHSP,),method='leastsq', ftol=1E-12, xtol=1E-12)\n",
    "lmfit.report_fit(result)"
   ]
  },
  {
   "cell_type": "code",
   "execution_count": 111,
   "metadata": {
    "ExecuteTime": {
     "end_time": "2018-04-15T08:22:11.295292Z",
     "start_time": "2018-04-15T08:22:11.287743Z"
    }
   },
   "outputs": [
    {
     "data": {
      "text/plain": [
       "array([[ 0.        , -0.00517181,  0.00631102,  0.01508518],\n",
       "       [-0.01157695,  0.0205107 , -0.0715675 , -0.00585125],\n",
       "       [ 0.0231681 , -0.09717611,  0.05722874,  0.08709529],\n",
       "       [ 0.01577485, -0.02356922,  0.02575757, -0.00337743]])"
      ]
     },
     "execution_count": 111,
     "metadata": {},
     "output_type": "execute_result"
    }
   ],
   "source": [
    "result.residual.reshape(4,4)"
   ]
  },
  {
   "cell_type": "markdown",
   "metadata": {},
   "source": [
    "---\n",
    "\n",
    "iterative fitting"
   ]
  },
  {
   "cell_type": "code",
   "execution_count": 128,
   "metadata": {
    "ExecuteTime": {
     "end_time": "2018-04-15T09:10:16.858902Z",
     "start_time": "2018-04-15T09:10:16.707100Z"
    }
   },
   "outputs": [],
   "source": [
    "def residual(par, mmHSP):\n",
    "    \n",
    "    mmHSP_model = model(par)\n",
    "    \n",
    "    return (mmHSP_model - mmHSP)\n",
    "\n",
    "def model(par):\n",
    "    \n",
    "    #--- mm_45\n",
    "    mm_45 = np.ones((4,4))\n",
    "    for i in range(4):\n",
    "        for j in range(4):\n",
    "            mm_45[i,j] = par[\"mir_{}{}\".format(i,j)].value\n",
    "    \n",
    "    #--- mm_ir\n",
    "    mm_ir = np.ones((4,4))\n",
    "    for i in range(4):\n",
    "        for j in range(4):\n",
    "            mm_ir[i,j] = par[\"ir_{}{}\".format(i,j)].value\n",
    "\n",
    "    #\n",
    "    mat = mm_45 @ MuellerMatrixRotation(par[\"th_dst2mm45\"].value*dtor)\n",
    "    mat = MuellerMatrixRotation(par[\"th_mm452mmir\"].value*dtor) @ mat\n",
    "    mat = MuellerMatrixRotation(par[\"th_mmir2hsp\"].value*dtor) @ mm_ir @ mat\n",
    "    \n",
    "    sc = par[\"sc\"].value\n",
    "    mat = np.array([\n",
    "        [1+sc, 0, 0, 0],\n",
    "        [0   , 1, 0, 0],\n",
    "        [0   , 0, 1, 0],\n",
    "        [0   , 0, 0, 1]\n",
    "    ]) @ mat\n",
    "    \n",
    "    mat /= mat[0,0]\n",
    "    \n",
    "    return mat\n",
    "\n",
    "mm_45 = np.array([\n",
    "        [ 1.        , -0.02789666, -0.00278582 , 0.01912723],\n",
    "        [-0.03455996,  0.98631785, -0.09857136 , 0.00230055],\n",
    "        [ 0.00451821, -0.09321724, -0.8493866  , 0.50052879],\n",
    "        [0.00378543,  -0.01900469,  -0.50651627, -0.8551463 ]\n",
    "    ])\n",
    "mm_ir = np.array([\n",
    "        [ 1.        ,  0.00882659, -0.02598109, -0.00823799],\n",
    "        [ 0.02498366,  0.6794385 , -0.16506339, -0.78942546],\n",
    "        [-0.01289528, -0.1819202 ,  0.96659989, -0.37748578],\n",
    "        [ 0.00271338,  0.78516071,  0.37225199,  0.55090527]\n",
    "    ])\n",
    "\n",
    "par = lmfit.Parameters()\n",
    "par.add( \"th_dst2mm45\", value=0, min=-180, max=180, vary=True)\n",
    "par.add( \"th_mm452mmir\", value=90, min=-180, max=180, vary=True)\n",
    "par.add( \"th_mmir2hsp\", value=0, min=-180, max=180, vary=True)\n",
    "par.add( \"sc\", value=0.0, min=0, max=0.2, vary=False)\n",
    "for i in range(4):\n",
    "    for j in range(4):\n",
    "        par.add( \"mir_{}{}\".format(i,j), value=mm_45[i,j], min=-1, max=1, vary=False)\n",
    "for i in range(4):\n",
    "    for j in range(4):\n",
    "        par.add(  \"ir_{}{}\".format(i,j), value=mm_ir[i,j], min=-1, max=1, vary=False)"
   ]
  },
  {
   "cell_type": "code",
   "execution_count": 129,
   "metadata": {
    "ExecuteTime": {
     "end_time": "2018-04-15T09:10:18.130180Z",
     "start_time": "2018-04-15T09:10:17.945469Z"
    }
   },
   "outputs": [
    {
     "name": "stdout",
     "output_type": "stream",
     "text": [
      "[[Fit Statistics]]\n",
      "    # function evals   = 19\n",
      "    # data points      = 16\n",
      "    # variables        = 15\n",
      "    chi-square         = 0.000\n",
      "    reduced chi-square = 0.000\n",
      "    Akaike info crit   = -1169.654\n",
      "    Bayesian info crit = -1158.066\n",
      "[[Variables]]\n",
      "    th_dst2mm45:   -1.401913 (fixed)\n",
      "    th_mm452mmir:   89.93181 (fixed)\n",
      "    th_mmir2hsp:   -49.51181 (fixed)\n",
      "    sc:             0 (fixed)\n",
      "    mir_00:         1 (fixed)\n",
      "    mir_01:        -0.02789666 (fixed)\n",
      "    mir_02:        -0.00278582 (fixed)\n",
      "    mir_03:         0.01912723 (fixed)\n",
      "    mir_10:        -0.03455996 (fixed)\n",
      "    mir_11:         0.9863179 (fixed)\n",
      "    mir_12:        -0.09857136 (fixed)\n",
      "    mir_13:         0.00230055 (fixed)\n",
      "    mir_20:         0.00451821 (fixed)\n",
      "    mir_21:        -0.09321724 (fixed)\n",
      "    mir_22:        -0.8493866 (fixed)\n",
      "    mir_23:         0.5005288 (fixed)\n",
      "    mir_30:         0.00378543 (fixed)\n",
      "    mir_31:        -0.01900469 (fixed)\n",
      "    mir_32:        -0.5065163 (fixed)\n",
      "    mir_33:        -0.8551463 (fixed)\n",
      "    ir_00:          1 (fixed)\n",
      "    ir_01:          0.00324010 +/- 2.11e-16 (0.00%) (init= 0.003240105)\n",
      "    ir_02:         -0.02298414 +/- 2.11e-16 (0.00%) (init=-0.02298415)\n",
      "    ir_03:          0.00766653 +/- 2.11e-16 (0.00%) (init= 0.007666535)\n",
      "    ir_10:          0.00352479 +/- 2.10e-16 (0.00%) (init= 0.003524792)\n",
      "    ir_11:          0.57406000 +/- 2.12e-16 (0.00%) (init= 0.57406)\n",
      "    ir_12:         -0.16625476 +/- 2.11e-16 (0.00%) (init=-0.1662548)\n",
      "    ir_13:         -0.68725704 +/- 2.11e-16 (0.00%) (init=-0.687257)\n",
      "    ir_20:         -0.02056618 +/- 2.10e-16 (0.00%) (init=-0.02056619)\n",
      "    ir_21:         -0.19548497 +/- 2.12e-16 (0.00%) (init=-0.195485)\n",
      "    ir_22:          0.90986782 +/- 2.12e-16 (0.00%) (init= 0.9098678)\n",
      "    ir_23:         -0.35368097 +/- 2.11e-16 (0.00%) (init=-0.353681)\n",
      "    ir_30:         -0.01226272 +/- 2.10e-16 (0.00%) (init=-0.01226272)\n",
      "    ir_31:          0.75822458 +/- 2.12e-16 (0.00%) (init= 0.7582246)\n",
      "    ir_32:          0.35109523 +/- 2.11e-16 (0.00%) (init= 0.3510952)\n",
      "    ir_33:          0.55892504 +/- 2.11e-16 (0.00%) (init= 0.558925)\n"
     ]
    }
   ],
   "source": [
    "tol = 1E-7\n",
    "for it in range(5):\n",
    "    \n",
    "    #--- fit angle\n",
    "    if it==0:\n",
    "        result1 = lmfit.minimize(residual, par, args=(mmHSP,),method='leastsq', ftol=tol, xtol=tol)\n",
    "    else :\n",
    "        for key in result2.params.keys():\n",
    "            par[key].set(value=result2.params[key].value)\n",
    "        for i in range(4):\n",
    "            for j in range(4):\n",
    "                par[\"ir_{}{}\".format(i,j)].set(vary=False)\n",
    "                #par[\"mir_{}{}\".format(i,j)].set(vary=False)\n",
    "        for parname in (\"th_dst2mm45\",\"th_mm452mmir\",\"th_mmir2hsp\"):\n",
    "            par[parname].set(vary=True)\n",
    "        result1 = lmfit.minimize(residual, par, args=(mmHSP,),method='leastsq', ftol=tol, xtol=tol)\n",
    "        \n",
    "    #--- fit image rotator\n",
    "    for key in result1.params.keys():\n",
    "        par[key].set(value=result1.params[key].value)\n",
    "    for i in range(4):\n",
    "        for j in range(4):\n",
    "            if i==0 and j==0 :\n",
    "                continue\n",
    "            par[\"ir_{}{}\".format(i,j)].set(vary=True)\n",
    "    for parname in (\"th_dst2mm45\",\"th_mm452mmir\",\"th_mmir2hsp\"):\n",
    "        par[parname].set(vary=False)\n",
    "    \n",
    "    result2 = lmfit.minimize(residual, par, args=(mmHSP,),method='leastsq', ftol=tol, xtol=tol)\n",
    "\n",
    "lmfit.report_fit(result2)"
   ]
  },
  {
   "cell_type": "markdown",
   "metadata": {},
   "source": [
    "fitted `mm_ir` is \n",
    "\n",
    "$$\n",
    "\\begin{bmatrix}\n",
    "+1.0000 & +0.0032 & -0.0230 & +0.0077 \\\\\n",
    "+0.0035 & +0.5741 & -0.1664 & -0.6873 \\\\\n",
    "-0.0206 & -0.1955 & +0.9099 & -0.3537 \\\\\n",
    "-0.0123 & +0.7583 & +0.3511 & +0.5589\n",
    "\\end{bmatrix}\n",
    "$$\n",
    "\n",
    "original `mm_ir` is \n",
    "\n",
    "$$\n",
    "\\begin{bmatrix}\n",
    "+1.0000 & +0.0088 & -0.0260 & -0.0082 \\\\\n",
    "+0.0250 & +0.6794 & -0.1651 & -0.7894 \\\\\n",
    "-0.0129 & -0.1819 & +0.9666 & -0.3775 \\\\\n",
    "+0.0027 & +0.7852 & +0.3723 & +0.5509\n",
    "\\end{bmatrix}\n",
    "$$\n",
    "\n",
    "error matrix is \n",
    "\n",
    "$$\n",
    "\\begin{bmatrix}\n",
    "+0.0000 & -0.0056 & +0.0030 & +0.0159 \\\\\n",
    "-0.0215 & -0.1053 & -0.0013 & +0.1021 \\\\\n",
    "-0.0077 & -0.0136 & -0.0567 & +0.0238 \\\\\n",
    "-0.0150 & -0.0269 & -0.0212 & +0.0080\n",
    "\\end{bmatrix}\n",
    "$$"
   ]
  },
  {
   "cell_type": "code",
   "execution_count": 131,
   "metadata": {
    "ExecuteTime": {
     "end_time": "2018-04-15T09:27:02.316525Z",
     "start_time": "2018-04-15T09:27:02.296733Z"
    }
   },
   "outputs": [],
   "source": [
    "mm_ir_fitted = np.ones((4,4))\n",
    "for i in range(4):\n",
    "    for j in range(4):\n",
    "        mm_ir_fitted[i,j] = result2.params[\"ir_{}{}\".format(i,j)].value\n",
    "\n",
    "mm_ir_origin = np.array([\n",
    "        [ 1.        ,  0.00882659, -0.02598109, -0.00823799],\n",
    "        [ 0.02498366,  0.6794385 , -0.16506339, -0.78942546],\n",
    "        [-0.01289528, -0.1819202 ,  0.96659989, -0.37748578],\n",
    "        [ 0.00271338,  0.78516071,  0.37225199,  0.55090527]\n",
    "    ])\n",
    "\n",
    "mm_ir_error = mm_ir_fitted - mm_ir_origin"
   ]
  },
  {
   "cell_type": "code",
   "execution_count": 130,
   "metadata": {
    "ExecuteTime": {
     "end_time": "2018-04-15T09:10:28.088644Z",
     "start_time": "2018-04-15T09:10:28.081926Z"
    }
   },
   "outputs": [
    {
     "name": "stdout",
     "output_type": "stream",
     "text": [
      "[[  0.00000000e+00  -5.55111512e-17   5.20417043e-17  -2.77555756e-17]\n",
      " [  5.89805982e-17   5.55111512e-17   0.00000000e+00  -2.08166817e-17]\n",
      " [ -6.93889390e-17   0.00000000e+00  -2.77555756e-17  -1.11022302e-16]\n",
      " [  1.73472348e-18   0.00000000e+00   1.11022302e-16   0.00000000e+00]]\n"
     ]
    }
   ],
   "source": [
    "print(result2.residual.reshape(4,4))"
   ]
  },
  {
   "cell_type": "markdown",
   "metadata": {},
   "source": [
    "---\n",
    "\n",
    "fit mm_ir"
   ]
  },
  {
   "cell_type": "code",
   "execution_count": 333,
   "metadata": {
    "ExecuteTime": {
     "end_time": "2018-04-15T16:35:48.929218Z",
     "start_time": "2018-04-15T16:35:48.672499Z"
    }
   },
   "outputs": [
    {
     "name": "stdout",
     "output_type": "stream",
     "text": [
      "origin: \n",
      "[[ 1.          0.00324011 -0.02298415  0.00766654]\n",
      " [ 0.00352479  0.57406001 -0.16625477 -0.68725705]\n",
      " [-0.02056619 -0.19548498  0.90986783 -0.35368097]\n",
      " [-0.01226272  0.75822459  0.35109523  0.55892505]]\n",
      "residual : \n",
      "[[  0.00000000e+00   5.97093319e-03   4.04348311e-03  -7.66653538e-03]\n",
      " [  5.68624635e-03  -6.66133815e-16  -8.32667268e-17  -7.65388889e-03]\n",
      " [  1.62552214e-03  -3.60822483e-16   4.44089210e-16   1.57386959e-02]\n",
      " [  1.22627216e-02  -6.93661634e-03   1.42637677e-02  -1.11022302e-16]]\n",
      "[[Fit Statistics]]\n",
      "    # function evals   = 72\n",
      "    # data points      = 16\n",
      "    # variables        = 9\n",
      "    chi-square         = 0.001\n",
      "    reduced chi-square = 0.000\n",
      "    Akaike info crit   = -139.411\n",
      "    Bayesian info crit = -132.458\n",
      "[[Variables]]\n",
      "    dangle:      -57.9670636 +/- 0.277959 (0.48%) (init=-59.46289)\n",
      "    ir_p:        -0.02106162 +/- 0.007810 (37.08%) (init= 0.1)\n",
      "    ir_delta:    -126.462123 +/- 0.753257 (0.60%) (init=-120)\n",
      "    ir_depolP:    0.01208917 +/- 0.011052 (91.42%) (init= 0)\n",
      "    ir_depolU:    0.09814241 +/- 0.015295 (15.58%) (init= 0)\n",
      "    ir_depolV:    0.03523437 +/- 0.015290 (43.40%) (init= 0)\n",
      "    ir_QU:        0 (fixed)\n",
      "    ir_UV:        0 (fixed)\n",
      "    ir_02:        0 (fixed)\n",
      "    ir_20:        0 (fixed)\n",
      "    ir_12:       -0.00577489 +/- 0.012032 (208.36%) (init= 0)\n",
      "    ir_21:       -0.03500510 +/- 0.012032 (34.37%) (init= 0)\n",
      "    ir_13:        0 (fixed)\n",
      "    ir_31:        0 (fixed)\n",
      "    ir_retardC:  -0.03134504 +/- 0.007810 (24.92%) (init= 0)\n",
      "    ir_pC:        0 (fixed)\n",
      "[[Correlations]] (unreported correlations are <  0.100)\n",
      "    C(ir_delta, ir_depolV)       = -0.691 \n",
      "    C(ir_delta, ir_depolU)       = -0.691 \n",
      "    C(ir_depolU, ir_depolV)      =  0.478 \n",
      "    C(dangle, ir_12)             =  0.397 \n",
      "    C(dangle, ir_21)             =  0.397 \n",
      "    C(ir_12, ir_21)              =  0.157 \n"
     ]
    }
   ],
   "source": [
    "def residual(par, mm_ir_fitted):\n",
    "    \n",
    "    mm_ir = model(par)\n",
    "    \n",
    "    return (mm_ir - mm_ir_fitted)\n",
    "\n",
    "def model(par):\n",
    "    \n",
    "    mm_ir = MuellerMatrixMirror(par[\"ir_delta\"].value*dtor, par[\"ir_p\"].value, gen=True)\n",
    "    mm_ir /= mm_ir[0,0]\n",
    "    \n",
    "    # depolarization\n",
    "    mm_ir[1,1] -= par[\"ir_depolP\"].value\n",
    "    mm_ir[2,2] -= par[\"ir_depolU\"].value\n",
    "    mm_ir[3,3] -= par[\"ir_depolV\"].value\n",
    "    # QU component\n",
    "    mm_ir[1,2] += par[\"ir_QU\"].value\n",
    "    mm_ir[2,1] -= par[\"ir_QU\"].value\n",
    "    mm_ir[1,2] = par[\"ir_12\"].value\n",
    "    mm_ir[2,1] = par[\"ir_21\"].value\n",
    "    # UV component\n",
    "    mm_ir[1,3] += par[\"ir_UV\"].value\n",
    "    mm_ir[3,1] -= par[\"ir_UV\"].value\n",
    "    mm_ir[1,3] = par[\"ir_13\"].value\n",
    "    mm_ir[3,1] = par[\"ir_31\"].value\n",
    "    # IU compunent\n",
    "    mm_ir[0,2] = par[\"ir_02\"].value\n",
    "    mm_ir[2,0] = par[\"ir_20\"].value\n",
    "    # Retardation Constant\n",
    "    mm_ir[2,3] += par[\"ir_retardC\"].value\n",
    "    mm_ir[3,2] += par[\"ir_retardC\"].value\n",
    "    # p constant\n",
    "    mm_ir[0,1] += par[\"ir_pC\"].value\n",
    "    mm_ir[0,1] -= par[\"ir_pC\"].value\n",
    "    # [0,3], [3,0]\n",
    "    # mm_ir[0,3] = 0.00766654\n",
    "    # mm_ir[3,0] = -0.01226272\n",
    "    \n",
    "    dangle = par[\"dangle\"].value * dtor\n",
    "    mm_ir = MuellerMatrixRotation(dangle) @ mm_ir @ MuellerMatrixRotation(-dangle)\n",
    "\n",
    "    \n",
    "    return mm_ir\n",
    "\n",
    "par = lmfit.Parameters()\n",
    "par.add( \"dangle\", value=(-59.4628868-0), min=-100, max=20, vary=True)\n",
    "par.add( \"ir_p\", value= 0.1, min=-0.2, max=0.2, vary=True)\n",
    "par.add( \"ir_delta\", value= -120, min=-140, max=-100, vary=True)\n",
    "par.add( \"ir_depolP\", value=0.00, min=-0.2, max=0.2, vary=True)\n",
    "par.add( \"ir_depolU\", value=0.00, min=-0.2, max=0.2, vary=True)\n",
    "par.add( \"ir_depolV\", value=0.00, min=-0.2, max=0.2, vary=True)\n",
    "\n",
    "par.add( \"ir_QU\", value=0.0, min=-0.2, max=0.2, vary=False)\n",
    "par.add( \"ir_UV\", value=0.0, min=-0.2, max=0.2, vary=False)\n",
    "\n",
    "par.add( \"ir_02\", value=0.0, min=-0.2, max=0.2, vary=False)\n",
    "par.add( \"ir_20\", value=0.0, min=-0.2, max=0.2, vary=False)\n",
    "par.add( \"ir_12\", value=0.0, min=-0.2, max=0.2, vary=True)\n",
    "par.add( \"ir_21\", value=0.0, min=-0.2, max=0.2, vary=True)\n",
    "par.add( \"ir_13\", value=0.0, min=-0.2, max=0.2, vary=False)\n",
    "par.add( \"ir_31\", value=0.0, min=-0.2, max=0.2, vary=False)\n",
    "\n",
    "par.add( \"ir_retardC\", value=0, min=-0.2, max=0.2, vary=True)\n",
    "par.add( \"ir_pC\", value=0, min=-0.1, max=0.1, vary=False)\n",
    "\n",
    "\n",
    "result = lmfit.minimize(residual, par, args=(mm_ir_fitted,),method='leastsq', ftol=1E-18, xtol=1E-18)\n",
    "print(\"origin: \")\n",
    "print(mm_ir_fitted)\n",
    "print(\"residual : \")\n",
    "print(result.residual.reshape(4,4))\n",
    "lmfit.report_fit(result)"
   ]
  },
  {
   "cell_type": "markdown",
   "metadata": {},
   "source": [
    "---\n",
    "\n",
    "error created by rotating $2^\\circ$ from $-57.9^\\circ$"
   ]
  },
  {
   "cell_type": "code",
   "execution_count": 71,
   "metadata": {
    "ExecuteTime": {
     "end_time": "2018-04-15T07:11:03.526955Z",
     "start_time": "2018-04-15T07:11:03.519806Z"
    }
   },
   "outputs": [],
   "source": [
    "npzFile = np.load(\"/nwork/kouui/dstsp/data/calibration/save/mmirFilter.npz\")"
   ]
  },
  {
   "cell_type": "code",
   "execution_count": 78,
   "metadata": {
    "ExecuteTime": {
     "end_time": "2018-04-15T07:13:41.715221Z",
     "start_time": "2018-04-15T07:13:41.703759Z"
    }
   },
   "outputs": [
    {
     "name": "stdout",
     "output_type": "stream",
     "text": [
      "we want to calculate Mueller Matrix of image rotator at angle:  -59.4628868103\n",
      "reference ratation angle: -57.9 deg\n"
     ]
    }
   ],
   "source": [
    "angleArray = np.deg2rad( npzFile[\"angleArray\"] )\n",
    "posAngle = np.argmin( abs(angleArray-imgrot) )\n",
    "print(\"we want to calculate Mueller Matrix of image rotator at angle: \",imgrot/dtor)\n",
    "print(\"reference ratation angle: {} deg\".format(angleArray[posAngle]/dtor))"
   ]
  },
  {
   "cell_type": "code",
   "execution_count": 79,
   "metadata": {
    "ExecuteTime": {
     "end_time": "2018-04-15T07:20:07.158792Z",
     "start_time": "2018-04-15T07:20:07.152203Z"
    }
   },
   "outputs": [
    {
     "data": {
      "text/plain": [
       "-56.0"
      ]
     },
     "execution_count": 79,
     "metadata": {},
     "output_type": "execute_result"
    }
   ],
   "source": [
    "angleArray[posAngle-1]/dtor"
   ]
  },
  {
   "cell_type": "code",
   "execution_count": 80,
   "metadata": {
    "ExecuteTime": {
     "end_time": "2018-04-15T07:21:28.319152Z",
     "start_time": "2018-04-15T07:21:28.262838Z"
    }
   },
   "outputs": [
    {
     "data": {
      "text/plain": [
       "(1400, 104, 4, 4)"
      ]
     },
     "execution_count": 80,
     "metadata": {},
     "output_type": "execute_result"
    }
   ],
   "source": [
    "npzFile[\"mmsFilter\"].shape"
   ]
  },
  {
   "cell_type": "code",
   "execution_count": 81,
   "metadata": {
    "ExecuteTime": {
     "end_time": "2018-04-15T07:21:59.884902Z",
     "start_time": "2018-04-15T07:21:59.779423Z"
    }
   },
   "outputs": [],
   "source": [
    "# reference matrix\n",
    "mmir_m579 = npzFile[\"mmsFilter\"][:,posAngle,:,:]\n",
    "# target matrix\n",
    "mmir_m560 = npzFile[\"mmsFilter\"][:,posAngle-1,:,:]"
   ]
  },
  {
   "cell_type": "code",
   "execution_count": 82,
   "metadata": {
    "ExecuteTime": {
     "end_time": "2018-04-15T07:30:13.722685Z",
     "start_time": "2018-04-15T07:30:13.719363Z"
    }
   },
   "outputs": [],
   "source": [
    "dangle = (-56.0+57.9) * dtor # target-reference"
   ]
  },
  {
   "cell_type": "code",
   "execution_count": 83,
   "metadata": {
    "ExecuteTime": {
     "end_time": "2018-04-15T07:30:35.605656Z",
     "start_time": "2018-04-15T07:30:35.597307Z"
    }
   },
   "outputs": [],
   "source": [
    "mmir_diff = MuellerMatrixRotation(dangle) @ mmir_m579 @ MuellerMatrixRotation(-dangle) - mmir_m560"
   ]
  },
  {
   "cell_type": "code",
   "execution_count": 89,
   "metadata": {
    "ExecuteTime": {
     "end_time": "2018-04-15T07:34:26.685049Z",
     "start_time": "2018-04-15T07:34:25.475196Z"
    },
    "code_folding": [
     0
    ]
   },
   "outputs": [
    {
     "data": {
      "image/png": "[encoded data removed]",
      "text/plain": [
       "<matplotlib.figure.Figure at 0x7f67b1749a58>"
      ]
     },
     "metadata": {},
     "output_type": "display_data"
    }
   ],
   "source": [
    "#\n",
    "fig, axs = plt.subplots(4,4, figsize=(16,10), dpi=100, sharex=True, sharey=True)\n",
    "\n",
    "for i in range(4):\n",
    "    for j in range(4):\n",
    "        ax = axs[i,j]\n",
    "        ax.plot(npzFile[\"wlFilter\"]*10, mmir_diff[:,i,j], '-k', linewidth=0.7)\n",
    "        ax.set_ylim(-0.01,0.01)\n",
    "        ax.axhline(y=0, linestyle='--', linewidth=0.5, color='b')\n",
    "\n",
    "axs[-1,0].set_xlabel('wavelength ($\\AA$)', fontsize=16)\n",
    "fig.suptitle('Error of rotating $1.9^\\circ$ from $-57.9^\\circ$ to $-56.0^\\circ$', x=0.5, y=0.95, fontsize=22);"
   ]
  }
 ],
 "metadata": {
  "kernelspec": {
   "display_name": "Python 3",
   "language": "python",
   "name": "python3"
  },
  "language_info": {
   "codemirror_mode": {
    "name": "ipython",
    "version": 3
   },
   "file_extension": ".py",
   "mimetype": "text/x-python",
   "name": "python",
   "nbconvert_exporter": "python",
   "pygments_lexer": "ipython3",
   "version": "3.5.1"
  },
  "toc": {
   "nav_menu": {},
   "number_sections": true,
   "sideBar": true,
   "skip_h1_title": false,
   "toc_cell": false,
   "toc_position": {},
   "toc_section_display": "block",
   "toc_window_display": false
  }
 },
 "nbformat": 4,
 "nbformat_minor": 2
}
