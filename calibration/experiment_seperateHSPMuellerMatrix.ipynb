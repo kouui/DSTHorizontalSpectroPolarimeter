{
 "cells": [
  {
   "cell_type": "code",
   "execution_count": 1,
   "metadata": {
    "ExecuteTime": {
     "end_time": "2018-04-14T14:53:00.299492Z",
     "start_time": "2018-04-14T14:52:59.801232Z"
    }
   },
   "outputs": [],
   "source": [
    "%matplotlib inline"
   ]
  },
  {
   "cell_type": "code",
   "execution_count": 5,
   "metadata": {
    "ExecuteTime": {
     "end_time": "2018-04-14T15:06:18.285494Z",
     "start_time": "2018-04-14T15:06:18.280367Z"
    }
   },
   "outputs": [],
   "source": [
    "import numpy as np\n",
    "import lmfit\n",
    "from scipy.io import readsav"
   ]
  },
  {
   "cell_type": "code",
   "execution_count": 11,
   "metadata": {
    "ExecuteTime": {
     "end_time": "2018-04-14T15:10:35.997224Z",
     "start_time": "2018-04-14T15:10:35.992918Z"
    }
   },
   "outputs": [],
   "source": [
    "from DSTPolarimeterLib import MuellerMatrixMirror, MuellerMatrixRotation"
   ]
  },
  {
   "cell_type": "code",
   "execution_count": 14,
   "metadata": {
    "ExecuteTime": {
     "end_time": "2018-04-14T15:11:47.757442Z",
     "start_time": "2018-04-14T15:11:47.753400Z"
    }
   },
   "outputs": [],
   "source": [
    "#--- dtor * deg = rad\n",
    "dtor = 0.017453292519943295"
   ]
  },
  {
   "cell_type": "markdown",
   "metadata": {},
   "source": [
    "---"
   ]
  },
  {
   "cell_type": "code",
   "execution_count": 62,
   "metadata": {
    "ExecuteTime": {
     "end_time": "2018-04-14T16:04:53.447491Z",
     "start_time": "2018-04-14T16:04:53.402818Z"
    }
   },
   "outputs": [],
   "source": [
    "def residual(par, mmHSP, mm_ir, sigma):\n",
    "    \n",
    "    mmHSP_model = model(par, mm_ir)\n",
    "    \n",
    "    return (mmHSP_model - mmHSP) / sigma\n",
    "\n",
    "def model(par, mm_ir):\n",
    "    \n",
    "    mm_45 = MuellerMatrixMirror(par[\"mir_delta\"].value*dtor, par[\"mir_p\"].value, gen=True)\n",
    "    mm_45 /= mm_45[0,0]\n",
    "    \n",
    "    # depolarization\n",
    "    mm_45[1,1] -= par[\"mir_depol\"].value\n",
    "    # QU component\n",
    "    mm_45[1,2] += par[\"mir_QU\"].value\n",
    "    mm_45[2,1] += par[\"mir_QU\"].value\n",
    "    # difference between [0,1] and [1,0]\n",
    "    mm_45[0,1] += par[\"mir_pConst\"].value\n",
    "    mm_45[1,0] -= par[\"mir_pConst\"].value\n",
    "    \n",
    "    # 以下两行只改变了delta的符号，因为其余符号被反的位置数值上都是0\n",
    "    mm_45[3,:] = -mm_45[3,:]\n",
    "    mm_45[:,3] = -mm_45[:,3]\n",
    "    \n",
    "    #\n",
    "    mat = mm_45 @ MuellerMatrixRotation(par[\"th_dst2mm45\"].value*dtor)\n",
    "    mat = MuellerMatrixRotation(par[\"th_mm452mmir\"].value*dtor) @ mat\n",
    "    mat = MuellerMatrixRotation(par[\"th_mmir2hsp\"].value*dtor) @ mm_ir @ mat\n",
    "    \n",
    "    sc = par[\"sc\"].value\n",
    "    mat = np.array([\n",
    "        [1+sc, 0, 0, 0],\n",
    "        [0   , 1, 0, 0],\n",
    "        [0   , 0, 1, 0],\n",
    "        [0   , 0, 0, 1]\n",
    "    ]) @ mat\n",
    "    \n",
    "    mat /= mat[0,0]\n",
    "    \n",
    "    return mat"
   ]
  },
  {
   "cell_type": "markdown",
   "metadata": {},
   "source": [
    "---\n",
    "\n",
    "fitted Mueller Matrix of HSP"
   ]
  },
  {
   "cell_type": "code",
   "execution_count": 4,
   "metadata": {
    "ExecuteTime": {
     "end_time": "2018-04-14T15:00:01.257246Z",
     "start_time": "2018-04-14T15:00:01.249274Z"
    }
   },
   "outputs": [],
   "source": [
    "mmHSP = np.array([\n",
    "    [1., -0.03454526, -0.02421685, 0.02406610],\n",
    "    [0.02891437, -0.23698555, -0.95226598, 0.04610067],\n",
    "    [0.02636235, -0.59941919, 0.14209622, 0.68590858],\n",
    "    [0.01450438, -0.72102226, 0.12382938, -0.65461389]\n",
    "], dtype=np.float64)"
   ]
  },
  {
   "cell_type": "markdown",
   "metadata": {},
   "source": [
    "Mueller Matrix of image rotator"
   ]
  },
  {
   "cell_type": "raw",
   "metadata": {
    "ExecuteTime": {
     "end_time": "2018-04-14T15:07:06.177962Z",
     "start_time": "2018-04-14T15:07:04.865521Z"
    }
   },
   "source": [
    "savFile = readsav(\"/nwork/kouui/dstsp/data/calibration/20171128/camera01/cale_iquv0000.sav\")"
   ]
  },
  {
   "cell_type": "code",
   "execution_count": 29,
   "metadata": {
    "ExecuteTime": {
     "end_time": "2018-04-14T15:37:04.203892Z",
     "start_time": "2018-04-14T15:37:04.118070Z"
    }
   },
   "outputs": [
    {
     "name": "stdout",
     "output_type": "stream",
     "text": [
      "posWave : 812, posAngle : 77\n"
     ]
    }
   ],
   "source": [
    "wave = 8600\n",
    "imgrot = np.deg2rad(-59.462886810302734)\n",
    "npzFile = np.load(\"/nwork/kouui/dstsp/data/calibration/save/mmirFilter.npz\")\n",
    "posWave = np.argmin( abs(npzFile[\"wlFilter\"]*10-wave) )  # nm to angstrom\n",
    "angleArray = np.deg2rad( npzFile[\"angleArray\"] )\n",
    "posAngle = np.argmin( abs(angleArray-imgrot) )\n",
    "\n",
    "print(\"posWave : {}, posAngle : {}\".format(posWave, posAngle))\n",
    "\n",
    "dangle = imgrot - angleArray[posAngle]\n",
    "mm_ir = MuellerMatrixRotation(dangle) @ npzFile[\"mmsFilter\"][posWave,posAngle,:,:] @ MuellerMatrixRotation(-dangle)"
   ]
  },
  {
   "cell_type": "code",
   "execution_count": 30,
   "metadata": {
    "ExecuteTime": {
     "end_time": "2018-04-14T15:37:07.359515Z",
     "start_time": "2018-04-14T15:37:07.355889Z"
    }
   },
   "outputs": [],
   "source": [
    "del npzFile"
   ]
  },
  {
   "cell_type": "markdown",
   "metadata": {},
   "source": [
    "Mueller Matrix of mirror"
   ]
  },
  {
   "cell_type": "code",
   "execution_count": 15,
   "metadata": {
    "ExecuteTime": {
     "end_time": "2018-04-14T15:12:42.697743Z",
     "start_time": "2018-04-14T15:12:42.694482Z"
    }
   },
   "outputs": [],
   "source": [
    "# we try different model for mm_45"
   ]
  },
  {
   "cell_type": "markdown",
   "metadata": {},
   "source": [
    "fitting parameters"
   ]
  },
  {
   "cell_type": "code",
   "execution_count": 68,
   "metadata": {
    "ExecuteTime": {
     "end_time": "2018-04-14T16:06:30.702300Z",
     "start_time": "2018-04-14T16:06:30.689288Z"
    }
   },
   "outputs": [],
   "source": [
    "par = lmfit.Parameters()\n",
    "par.add( \"th_dst2mm45\", value=0, min=-180, max=180, vary=True)\n",
    "par.add( \"th_mm452mmir\", value=90, min=-180, max=180, vary=True)\n",
    "par.add( \"th_mmir2hsp\", value=0, min=-180, max=180, vary=True)\n",
    "par.add( \"sc\", value=0.0, min=0, max=0.2, vary=True)\n",
    "par.add( \"mir_p\", value= -0.0304, min=-1, max=1, vary=True)\n",
    "par.add( \"mir_delta\", value=30.447, min=-180, max=180, vary=True)  # deg\n",
    "par.add( \"mir_depol\", value=0.0, min=0, max=1, vary=False)\n",
    "par.add( \"mir_QU\", value=0.0, min=-0.5, max=0.5, vary=False)\n",
    "par.add( \"mir_pConst\", value=0.0, min=-0.2, max=0.2, vary=False)"
   ]
  },
  {
   "cell_type": "markdown",
   "metadata": {},
   "source": [
    "fitting error"
   ]
  },
  {
   "cell_type": "code",
   "execution_count": 51,
   "metadata": {
    "ExecuteTime": {
     "end_time": "2018-04-14T15:51:53.633925Z",
     "start_time": "2018-04-14T15:51:53.629743Z"
    }
   },
   "outputs": [],
   "source": [
    "sigma = np.ones((4,4))*0.001"
   ]
  },
  {
   "cell_type": "markdown",
   "metadata": {},
   "source": [
    "start fitting"
   ]
  },
  {
   "cell_type": "code",
   "execution_count": 69,
   "metadata": {
    "ExecuteTime": {
     "end_time": "2018-04-14T16:06:38.365337Z",
     "start_time": "2018-04-14T16:06:38.320553Z"
    }
   },
   "outputs": [
    {
     "name": "stdout",
     "output_type": "stream",
     "text": [
      "[[Fit Statistics]]\n",
      "    # function evals   = 143\n",
      "    # data points      = 16\n",
      "    # variables        = 6\n",
      "    chi-square         = 27678.133\n",
      "    reduced chi-square = 2767.813\n",
      "    Akaike info crit   = 131.293\n",
      "    Bayesian info crit = 135.928\n",
      "[[Variables]]\n",
      "    th_dst2mm45:    7.21105220 +/- 0        (0.00%) (init= 0)\n",
      "    th_mm452mmir:   95.2831177 +/- 0        (0.00%) (init= 90)\n",
      "    th_mmir2hsp:   -39.8977229 +/- 0        (0.00%) (init= 0)\n",
      "    sc:             0          +/- 0        (nan%) (init= 0)\n",
      "    mir_p:         -0.02289207 +/- 0        (0.00%) (init=-0.0304)\n",
      "    mir_delta:      16.6011343 +/- 0        (0.00%) (init= 30.447)\n",
      "    mir_depol:      0 (fixed)\n",
      "    mir_QU:         0 (fixed)\n",
      "    mir_pConst:     0 (fixed)\n"
     ]
    },
    {
     "name": "stderr",
     "output_type": "stream",
     "text": [
      "/home/kouui/virtualenvs/python35/lib/python3.5/site-packages/lmfit/printfuncs.py:140: RuntimeWarning: invalid value encountered in double_scalars\n",
      "  spercent = '({0:.2%})'.format(abs(par.stderr/par.value))\n"
     ]
    }
   ],
   "source": [
    "result = lmfit.minimize(residual, par, args=(mmHSP, mm_ir, sigma),method='leastsq', ftol=1E-12, xtol=1E-12)\n",
    "lmfit.report_fit(result)"
   ]
  },
  {
   "cell_type": "markdown",
   "metadata": {},
   "source": [
    "origin"
   ]
  },
  {
   "cell_type": "code",
   "execution_count": 70,
   "metadata": {
    "ExecuteTime": {
     "end_time": "2018-04-14T16:06:41.197954Z",
     "start_time": "2018-04-14T16:06:41.190885Z"
    }
   },
   "outputs": [
    {
     "data": {
      "text/plain": [
       "array([[ 0.        ,  0.00448847, -0.00474118, -0.00934518],\n",
       "       [-0.00095146,  0.0108648 , -0.07314988, -0.00840923],\n",
       "       [ 0.01021624, -0.09519374,  0.05202496,  0.08647849],\n",
       "       [ 0.00430975, -0.0427016 ,  0.02161341, -0.01863115]])"
      ]
     },
     "execution_count": 70,
     "metadata": {},
     "output_type": "execute_result"
    }
   ],
   "source": [
    "result.residual.reshape(4,4) * sigma"
   ]
  },
  {
   "cell_type": "markdown",
   "metadata": {},
   "source": [
    "with `depol`"
   ]
  },
  {
   "cell_type": "code",
   "execution_count": 53,
   "metadata": {
    "ExecuteTime": {
     "end_time": "2018-04-14T15:52:00.662239Z",
     "start_time": "2018-04-14T15:52:00.654983Z"
    }
   },
   "outputs": [
    {
     "data": {
      "text/plain": [
       "array([[ 0.        ,  0.01598738,  0.01115057, -0.02189748],\n",
       "       [-0.01174474, -0.03593874, -0.04146636, -0.00955769],\n",
       "       [-0.002117  , -0.04135916,  0.00539744,  0.090765  ],\n",
       "       [ 0.00506408,  0.01677387, -0.03305   , -0.02247056]])"
      ]
     },
     "execution_count": 53,
     "metadata": {},
     "output_type": "execute_result"
    }
   ],
   "source": [
    "result.residual.reshape(4,4) * sigma"
   ]
  },
  {
   "cell_type": "markdown",
   "metadata": {},
   "source": [
    "with `depol` and `QU`"
   ]
  },
  {
   "cell_type": "code",
   "execution_count": 67,
   "metadata": {
    "ExecuteTime": {
     "end_time": "2018-04-14T16:06:15.377390Z",
     "start_time": "2018-04-14T16:06:15.372312Z"
    }
   },
   "outputs": [
    {
     "data": {
      "text/plain": [
       "array([[ 0.        ,  0.01787846,  0.02420255,  0.00117319],\n",
       "       [-0.03766389, -0.00865181, -0.07173503,  0.00513126],\n",
       "       [ 0.00404433, -0.02063702,  0.01196712,  0.08476418],\n",
       "       [-0.00824356,  0.03449218, -0.00021339, -0.0260496 ]])"
      ]
     },
     "execution_count": 67,
     "metadata": {},
     "output_type": "execute_result"
    }
   ],
   "source": [
    "result.residual.reshape(4,4) * sigma"
   ]
  },
  {
   "cell_type": "markdown",
   "metadata": {},
   "source": [
    "with `depol`, `QU`, `pConst`"
   ]
  },
  {
   "cell_type": "code",
   "execution_count": 61,
   "metadata": {
    "ExecuteTime": {
     "end_time": "2018-04-14T15:58:16.017646Z",
     "start_time": "2018-04-14T15:58:16.009882Z"
    }
   },
   "outputs": [
    {
     "data": {
      "text/plain": [
       "array([[ 0.        ,  0.01040839,  0.02357508,  0.00017655],\n",
       "       [-0.03324022, -0.01648263, -0.06986656,  0.01187595],\n",
       "       [ 0.00479372,  0.00021814, -0.00469058,  0.05787638],\n",
       "       [-0.00849887,  0.00291082,  0.00377151, -0.05119571]])"
      ]
     },
     "execution_count": 61,
     "metadata": {},
     "output_type": "execute_result"
    }
   ],
   "source": [
    "result.residual.reshape(4,4) * sigma"
   ]
  }
 ],
 "metadata": {
  "kernelspec": {
   "display_name": "Python 3",
   "language": "python",
   "name": "python3"
  },
  "language_info": {
   "codemirror_mode": {
    "name": "ipython",
    "version": 3
   },
   "file_extension": ".py",
   "mimetype": "text/x-python",
   "name": "python",
   "nbconvert_exporter": "python",
   "pygments_lexer": "ipython3",
   "version": "3.5.1"
  },
  "toc": {
   "nav_menu": {},
   "number_sections": true,
   "sideBar": true,
   "skip_h1_title": false,
   "toc_cell": false,
   "toc_position": {},
   "toc_section_display": "block",
   "toc_window_display": false
  }
 },
 "nbformat": 4,
 "nbformat_minor": 2
}
