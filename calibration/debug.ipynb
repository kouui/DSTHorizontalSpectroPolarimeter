{
 "cells": [
  {
   "cell_type": "code",
   "execution_count": 1,
   "metadata": {
    "ExecuteTime": {
     "end_time": "2018-04-06T05:48:59.670323Z",
     "start_time": "2018-04-06T05:48:59.029051Z"
    }
   },
   "outputs": [],
   "source": [
    "%matplotlib inline"
   ]
  },
  {
   "cell_type": "code",
   "execution_count": 2,
   "metadata": {
    "ExecuteTime": {
     "end_time": "2018-04-06T05:49:00.582983Z",
     "start_time": "2018-04-06T05:49:00.153210Z"
    }
   },
   "outputs": [],
   "source": [
    "import numpy as np\n",
    "import matplotlib.pyplot as plt\n",
    "from scipy.io import readsav"
   ]
  },
  {
   "cell_type": "code",
   "execution_count": 3,
   "metadata": {
    "ExecuteTime": {
     "end_time": "2018-04-06T05:49:02.229654Z",
     "start_time": "2018-04-06T05:49:01.474472Z"
    }
   },
   "outputs": [],
   "source": [
    "%load_ext autoreload\n",
    "%autoreload 2\n",
    "from DSTPolarimeterLib import *"
   ]
  },
  {
   "cell_type": "markdown",
   "metadata": {},
   "source": [
    "---"
   ]
  },
  {
   "cell_type": "code",
   "execution_count": 27,
   "metadata": {
    "ExecuteTime": {
     "end_time": "2018-04-06T04:14:33.388978Z",
     "start_time": "2018-04-06T04:14:33.160954Z"
    },
    "collapsed": true
   },
   "outputs": [
    {
     "data": {
      "text/plain": [
       "array([[ 0.90909091,  0.09090909,  0.        ,  0.        ],\n",
       "       [ 0.09090909,  0.90909091,  0.        ,  0.        ],\n",
       "       [ 0.        ,  0.        , -0.90001513, -0.09030272],\n",
       "       [ 0.        ,  0.        ,  0.09030272, -0.90001513]])"
      ]
     },
     "execution_count": 27,
     "metadata": {},
     "output_type": "execute_result"
    }
   ],
   "source": [
    "MuellerMatrixMirror(0.1, 0.1)"
   ]
  },
  {
   "cell_type": "code",
   "execution_count": 5,
   "metadata": {
    "ExecuteTime": {
     "end_time": "2018-04-05T08:27:26.075416Z",
     "start_time": "2018-04-05T08:27:25.838932Z"
    },
    "collapsed": true
   },
   "outputs": [
    {
     "data": {
      "text/plain": [
       "array([[  1.00000000e+00,   0.00000000e+00,   0.00000000e+00,\n",
       "          0.00000000e+00],\n",
       "       [  0.00000000e+00,   9.99802817e-01,   9.72734838e-04,\n",
       "         -1.98338381e-02],\n",
       "       [  0.00000000e+00,   9.72734838e-04,   9.95201348e-01,\n",
       "          9.78433950e-02],\n",
       "       [  0.00000000e+00,   1.98338381e-02,  -9.78433950e-02,\n",
       "          9.95004165e-01]])"
      ]
     },
     "execution_count": 5,
     "metadata": {},
     "output_type": "execute_result"
    }
   ],
   "source": [
    "MuellerMatrixWaveplate(0.1,0.1)"
   ]
  },
  {
   "cell_type": "code",
   "execution_count": 6,
   "metadata": {
    "ExecuteTime": {
     "end_time": "2018-04-05T08:32:16.854129Z",
     "start_time": "2018-04-05T08:32:16.616813Z"
    },
    "collapsed": true
   },
   "outputs": [
    {
     "data": {
      "text/plain": [
       "array([[ 1.        ,  0.        ,  0.        ,  0.        ],\n",
       "       [ 0.        , -0.41614684,  0.90929743,  0.        ],\n",
       "       [ 0.        , -0.90929743, -0.41614684,  0.        ],\n",
       "       [ 0.        ,  0.        ,  0.        ,  1.        ]])"
      ]
     },
     "execution_count": 6,
     "metadata": {},
     "output_type": "execute_result"
    }
   ],
   "source": [
    "MuellerMatrixRotation(1.0)"
   ]
  },
  {
   "cell_type": "code",
   "execution_count": 10,
   "metadata": {
    "ExecuteTime": {
     "end_time": "2018-04-05T08:39:34.970671Z",
     "start_time": "2018-04-05T08:39:34.050800Z"
    },
    "collapsed": true
   },
   "outputs": [
    {
     "data": {
      "text/plain": [
       "(array([ 0.45982679, -0.01282763, -0.00128099,  0.00879521, -0.01589159,\n",
       "         0.45353538, -0.04532575,  0.00105785,  0.00207759, -0.04286378,\n",
       "        -0.39057072,  0.23015655,  0.00174064, -0.00873887, -0.23290975,\n",
       "        -0.39321918]), 1462)"
      ]
     },
     "execution_count": 10,
     "metadata": {},
     "output_type": "execute_result"
    }
   ],
   "source": [
    "parameterMMSP2Mirror(860)"
   ]
  },
  {
   "cell_type": "code",
   "execution_count": 12,
   "metadata": {
    "ExecuteTime": {
     "end_time": "2018-04-05T08:45:49.219222Z",
     "start_time": "2018-04-05T08:45:30.966382Z"
    }
   },
   "outputs": [],
   "source": [
    "path = \"/nwork/kouui/dstsp/data/calibration/20171128/camera01/cale_iquv0000.sav\"\n",
    "saveFile = readsav(path)"
   ]
  },
  {
   "cell_type": "code",
   "execution_count": 13,
   "metadata": {
    "ExecuteTime": {
     "end_time": "2018-04-05T08:47:52.190153Z",
     "start_time": "2018-04-05T08:47:51.936389Z"
    },
    "collapsed": true
   },
   "outputs": [
    {
     "data": {
      "text/plain": [
       "Parameters([('xn', <Parameter 'xn', -0.0387, bounds=[-1.0:1.0]>),\n",
       "            ('tn', <Parameter 'tn', -0.29321544000000005, bounds=[-inf:inf]>),\n",
       "            ('xc', <Parameter 'xc', -0.0321, bounds=[-1.0:1.0]>),\n",
       "            ('tc', <Parameter 'tc', 0.21816625, bounds=[-inf:inf]>),\n",
       "            ('sc', <Parameter 'sc', 0.0521, bounds=[0.0:1.0]>),\n",
       "            ('t_en', <Parameter 't_en', value=0.0 (fixed), bounds=[-inf:inf]>),\n",
       "            ('dlen', <Parameter 'dlen', value=0.0 (fixed), bounds=[-inf:inf]>),\n",
       "            ('t_ex', <Parameter 't_ex', value=0.0 (fixed), bounds=[-inf:inf]>),\n",
       "            ('dlex', <Parameter 'dlex', value=0.0 (fixed), bounds=[-inf:inf]>),\n",
       "            ('th_dst_mmsp2',\n",
       "             <Parameter 'th_dst_mmsp2', 0.0, bounds=[-3.141592653589793:3.141592653589793]>),\n",
       "            ('th_mmsp2_hsp',\n",
       "             <Parameter 'th_mmsp2_hsp', -0.7504918999999998, bounds=[-3.141592653589793:3.141592653589793]>),\n",
       "            ('par_mmsp2_0',\n",
       "             <Parameter 'par_mmsp2_0', value=0.0 (fixed), bounds=[-1.0:1.0]>),\n",
       "            ('par_mmsp2_1',\n",
       "             <Parameter 'par_mmsp2_1', value=0.0 (fixed), bounds=[-1.0:1.0]>),\n",
       "            ('par_mmsp2_2',\n",
       "             <Parameter 'par_mmsp2_2', value=0.0 (fixed), bounds=[-1.0:1.0]>),\n",
       "            ('par_mmsp2_3',\n",
       "             <Parameter 'par_mmsp2_3', value=0.0 (fixed), bounds=[-1.0:1.0]>),\n",
       "            ('par_mmsp2_4',\n",
       "             <Parameter 'par_mmsp2_4', value=0.0 (fixed), bounds=[-1.0:1.0]>),\n",
       "            ('par_mmsp2_5',\n",
       "             <Parameter 'par_mmsp2_5', value=0.0 (fixed), bounds=[-1.0:1.0]>),\n",
       "            ('par_mmsp2_6',\n",
       "             <Parameter 'par_mmsp2_6', value=0.0 (fixed), bounds=[-1.0:1.0]>),\n",
       "            ('par_mmsp2_7',\n",
       "             <Parameter 'par_mmsp2_7', value=0.0 (fixed), bounds=[-1.0:1.0]>),\n",
       "            ('par_mmsp2_8',\n",
       "             <Parameter 'par_mmsp2_8', value=0.0 (fixed), bounds=[-1.0:1.0]>),\n",
       "            ('par_mmsp2_9',\n",
       "             <Parameter 'par_mmsp2_9', value=0.0 (fixed), bounds=[-1.0:1.0]>),\n",
       "            ('par_mmsp2_10',\n",
       "             <Parameter 'par_mmsp2_10', value=0.0 (fixed), bounds=[-1.0:1.0]>),\n",
       "            ('par_mmsp2_11',\n",
       "             <Parameter 'par_mmsp2_11', value=0.0 (fixed), bounds=[-1.0:1.0]>),\n",
       "            ('par_mmsp2_12',\n",
       "             <Parameter 'par_mmsp2_12', value=0.0 (fixed), bounds=[-1.0:1.0]>),\n",
       "            ('par_mmsp2_13',\n",
       "             <Parameter 'par_mmsp2_13', value=0.0 (fixed), bounds=[-1.0:1.0]>),\n",
       "            ('par_mmsp2_14',\n",
       "             <Parameter 'par_mmsp2_14', value=0.0 (fixed), bounds=[-1.0:1.0]>),\n",
       "            ('par_mmsp2_15',\n",
       "             <Parameter 'par_mmsp2_15', value=0.0 (fixed), bounds=[-1.0:1.0]>),\n",
       "            ('par_mmsp2_16',\n",
       "             <Parameter 'par_mmsp2_16', value=0.0 (fixed), bounds=[-1.0:1.0]>),\n",
       "            ('par_mmsp2_17',\n",
       "             <Parameter 'par_mmsp2_17', value=0.0 (fixed), bounds=[-1.0:1.0]>),\n",
       "            ('par_mmsp2_18',\n",
       "             <Parameter 'par_mmsp2_18', value=0.0 (fixed), bounds=[-1.0:1.0]>),\n",
       "            ('par_mmsp2_19',\n",
       "             <Parameter 'par_mmsp2_19', value=0.0 (fixed), bounds=[-1.0:1.0]>),\n",
       "            ('par_mmsp2_20',\n",
       "             <Parameter 'par_mmsp2_20', value=0.0 (fixed), bounds=[-1.0:1.0]>),\n",
       "            ('par_mmsp2_21',\n",
       "             <Parameter 'par_mmsp2_21', value=0.0 (fixed), bounds=[-1.0:1.0]>),\n",
       "            ('par_mmsp2_22',\n",
       "             <Parameter 'par_mmsp2_22', value=0.0 (fixed), bounds=[-1.0:1.0]>),\n",
       "            ('par_mmsp2_23',\n",
       "             <Parameter 'par_mmsp2_23', value=0.0 (fixed), bounds=[-1.0:1.0]>),\n",
       "            ('par_mmsp2_24',\n",
       "             <Parameter 'par_mmsp2_24', value=0.0 (fixed), bounds=[-1.0:1.0]>),\n",
       "            ('par_mmsp2_25',\n",
       "             <Parameter 'par_mmsp2_25', value=0.0 (fixed), bounds=[-1.0:1.0]>),\n",
       "            ('par_mmsp2_26',\n",
       "             <Parameter 'par_mmsp2_26', value=0.0 (fixed), bounds=[-1.0:1.0]>),\n",
       "            ('par_mmsp2_27',\n",
       "             <Parameter 'par_mmsp2_27', value=0.0 (fixed), bounds=[-1.0:1.0]>),\n",
       "            ('par_mmsp2_28',\n",
       "             <Parameter 'par_mmsp2_28', value=0.0 (fixed), bounds=[-1.0:1.0]>),\n",
       "            ('par_mmsp2_29',\n",
       "             <Parameter 'par_mmsp2_29', value=0.0 (fixed), bounds=[-1.0:1.0]>),\n",
       "            ('par_mmsp2_30',\n",
       "             <Parameter 'par_mmsp2_30', value=0.0 (fixed), bounds=[-1.0:1.0]>),\n",
       "            ('par_mmsp2_31',\n",
       "             <Parameter 'par_mmsp2_31', value=0.0 (fixed), bounds=[-1.0:1.0]>),\n",
       "            ('par_mmsp2_32',\n",
       "             <Parameter 'par_mmsp2_32', value=0.0 (fixed), bounds=[-inf:inf]>),\n",
       "            ('par_mmsp2_33',\n",
       "             <Parameter 'par_mmsp2_33', value=0.0 (fixed), bounds=[-inf:inf]>)])"
      ]
     },
     "execution_count": 13,
     "metadata": {},
     "output_type": "execute_result"
    }
   ],
   "source": [
    "par=parameterDST(saveFile['hds'][0],th_mmsp2_hsp=(88.2 - 131.2)*dtor)       \n",
    "par[\"xn\"].set(value=-0.0387)\n",
    "par[\"tn\"].set(value=-16.8*dtor)\n",
    "par[\"xc\"].set(value=-0.0321)\n",
    "par[\"tc\"].set(value=12.5*dtor)\n",
    "par[\"sc\"].set(value=0.0521)\n",
    "par"
   ]
  },
  {
   "cell_type": "code",
   "execution_count": 22,
   "metadata": {
    "ExecuteTime": {
     "end_time": "2018-04-05T09:00:26.398539Z",
     "start_time": "2018-04-05T09:00:26.334568Z"
    }
   },
   "outputs": [],
   "source": [
    "zd, ha, r, p, i = hd2angle(saveFile['hds'])"
   ]
  },
  {
   "cell_type": "code",
   "execution_count": 26,
   "metadata": {
    "ExecuteTime": {
     "end_time": "2018-04-05T09:01:59.257066Z",
     "start_time": "2018-04-05T09:01:59.006659Z"
    }
   },
   "outputs": [
    {
     "data": {
      "text/plain": [
       "array([ 5.20272008,  5.20319519,  5.2041454 ,  5.20459601,  5.20519735,\n",
       "        5.20557073,  5.20655269,  5.20705411,  5.20823229,  5.21100517,\n",
       "        5.21207204,  5.21280867,  5.21376368,  5.21442627,  5.21513574,\n",
       "        5.21595066,  5.21679382,  5.21782564,  5.21888142,  5.22010999,\n",
       "        5.22080348,  5.2217489 ,  5.2227087 ,  5.22368821,  5.2246869 ,\n",
       "        5.22554689,  5.22646589,  5.22751304,  5.22908227,  5.23022308,\n",
       "        5.23133362,  5.23246812,  5.23361701,  5.23537203,  5.2365646 ,\n",
       "        5.23808207,  5.23962404,  5.24182967,  5.24311438,  5.2450734 ])"
      ]
     },
     "execution_count": 26,
     "metadata": {},
     "output_type": "execute_result"
    }
   ],
   "source": [
    "i"
   ]
  },
  {
   "cell_type": "markdown",
   "metadata": {},
   "source": [
    "---"
   ]
  },
  {
   "cell_type": "code",
   "execution_count": 4,
   "metadata": {
    "ExecuteTime": {
     "end_time": "2018-04-06T05:53:26.453905Z",
     "start_time": "2018-04-06T05:49:23.582028Z"
    },
    "collapsed": true
   },
   "outputs": [
    {
     "name": "stdout",
     "output_type": "stream",
     "text": [
      "['scipt_to_run_on_kipsua.py', '/nwork/kouui/dstsp/data/calibration/20171128/camera01/cale_iquv0000', '/nwork/kouui/dstsp/data/calibration/20171128/camera01/cale_iquv0000']\n",
      "pathData     :  /nwork/kouui/dstsp/data/calibration/20171128/camera01/cale_iquv0000\n",
      "pathCamera01 :  /nwork/kouui/dstsp/data/calibration/20171128/camera01/cale_iquv0000\n",
      "--- Preparing fitting process ---\n",
      "ref_index ref_time ok.\n",
      "calibration data dictionary ok.\n",
      "Array iquv and hd ok.\n",
      "iquv : 1.25 GB\n",
      "order_no_bad ok.\n",
      "mm45_flat, matImageRotatorSeries ok.\n",
      "--- Start fitting process ---\n",
      "> /tmp_mnt/home/kouui/cloud_computing/dstsp/calibration/DSTPolarimeterLib.py(212)residual()\n",
      "-> return (y_model-data)/sigma\n",
      "(Pdb) y_model\n",
      "array([-0.31814982, -0.90580696,  0.33932698,  0.92681008, -0.35612137,\n",
      "       -0.88604129,  0.36994938,  0.91385945,  0.01856935, -0.41361001,\n",
      "       -0.8445284 ,  0.42505145,  0.88420147, -0.43778459, -0.82831429,\n",
      "        0.44562787,  0.87247372,  0.02239727, -0.46333119, -0.80498197,\n",
      "        0.47189314,  0.85488834, -0.48147904, -0.78979188,  0.48947696,\n",
      "        0.8424082 ,  0.02476577, -0.50079715, -0.76888294,  0.51085788,\n",
      "        0.82482222, -0.51750347, -0.75294597,  0.52756606,  0.81015833,\n",
      "        0.0271038 , -0.53741186, -0.72696922,  0.54853401,  0.78843634,\n",
      "       -0.20179144,  0.33485405,  0.28843728, -0.22568085, -0.17738006,\n",
      "        0.36058694,  0.26923069, -0.24923175,  0.06239434, -0.1354508 ,\n",
      "        0.40667954,  0.23057451, -0.29475906, -0.11570429,  0.42248095,\n",
      "        0.21457461, -0.31046061,  0.06143712, -0.09320591,  0.44355386,\n",
      "        0.19271396, -0.33220626, -0.07605393,  0.45636058,  0.17704976,\n",
      "       -0.34655347,  0.06056574, -0.05656158,  0.47298953,  0.15678274,\n",
      "       -0.365509  , -0.03851182,  0.4849912 ,  0.13982076, -0.38035724,\n",
      "        0.05943572, -0.015252  ,  0.50348919,  0.11692722, -0.40105316,\n",
      "       -0.86531168,  0.32674813,  0.88555071, -0.23090597, -0.85579191,\n",
      "        0.356038  ,  0.87802493, -0.25693821,  0.05735897, -0.83771804,\n",
      "        0.40916664,  0.86167424, -0.30769619, -0.82862346,  0.42752367,\n",
      "        0.8545509 , -0.32528535,  0.05727408, -0.81791069,  0.45202537,\n",
      "        0.84455917, -0.34965627, -0.80953678,  0.46690263,  0.8372616 ,\n",
      "       -0.36569999,  0.05688587, -0.79984294,  0.486132  ,  0.82765739,\n",
      "       -0.38678988, -0.79073464,  0.49988543,  0.81954979, -0.40317499,\n",
      "        0.05616303, -0.77887503,  0.52075915,  0.80853303, -0.42565589])\n",
      "(Pdb) exit\n"
     ]
    },
    {
     "ename": "BdbQuit",
     "evalue": "",
     "output_type": "error",
     "traceback": [
      "\u001b[0;31m---------------------------------------------------------------------------\u001b[0m",
      "\u001b[0;31mBdbQuit\u001b[0m                                   Traceback (most recent call last)",
      "\u001b[0;32m/tmp_mnt/home/kouui/cloud_computing/dstsp/calibration/scipt_to_run_on_kipsua.py\u001b[0m in \u001b[0;36m<module>\u001b[0;34m()\u001b[0m\n\u001b[1;32m    236\u001b[0m \u001b[0;34m\u001b[0m\u001b[0m\n\u001b[1;32m    237\u001b[0m     \u001b[0mmain\u001b[0m \u001b[0;34m=\u001b[0m \u001b[0mMain\u001b[0m\u001b[0;34m(\u001b[0m\u001b[0misDebug\u001b[0m\u001b[0;34m=\u001b[0m\u001b[0;32mTrue\u001b[0m\u001b[0;34m)\u001b[0m\u001b[0;34m\u001b[0m\u001b[0m\n\u001b[0;32m--> 238\u001b[0;31m     \u001b[0mmain\u001b[0m\u001b[0;34m.\u001b[0m\u001b[0mrun\u001b[0m\u001b[0;34m(\u001b[0m\u001b[0mpathData\u001b[0m\u001b[0;34m,\u001b[0m \u001b[0mpathCamera01\u001b[0m\u001b[0;34m,\u001b[0m \u001b[0mthreshold\u001b[0m\u001b[0;34m=\u001b[0m\u001b[0;36m129626\u001b[0m\u001b[0;34m,\u001b[0m \u001b[0mnCPU\u001b[0m\u001b[0;34m=\u001b[0m\u001b[0;36m1\u001b[0m\u001b[0;34m)\u001b[0m\u001b[0;34m\u001b[0m\u001b[0m\n\u001b[0m",
      "\u001b[0;32m/tmp_mnt/home/kouui/cloud_computing/dstsp/calibration/scipt_to_run_on_kipsua.py\u001b[0m in \u001b[0;36mrun\u001b[0;34m(self, pathData, pathCamera01, threshold, nCPU)\u001b[0m\n\u001b[1;32m     26\u001b[0m         \u001b[0miquv\u001b[0m\u001b[0;34m,\u001b[0m \u001b[0mhd\u001b[0m\u001b[0;34m,\u001b[0m \u001b[0mimgrot\u001b[0m\u001b[0;34m,\u001b[0m \u001b[0mazimuth\u001b[0m\u001b[0;34m,\u001b[0m \u001b[0mmm45_flat\u001b[0m\u001b[0;34m,\u001b[0m \u001b[0mmatImageRotatorSeries\u001b[0m \u001b[0;34m=\u001b[0m \u001b[0mself\u001b[0m\u001b[0;34m.\u001b[0m\u001b[0mprepareFittingProcess\u001b[0m\u001b[0;34m(\u001b[0m\u001b[0mpathData\u001b[0m\u001b[0;34m,\u001b[0m \u001b[0mpathCamera01\u001b[0m\u001b[0;34m)\u001b[0m\u001b[0;34m\u001b[0m\u001b[0m\n\u001b[1;32m     27\u001b[0m \u001b[0;34m\u001b[0m\u001b[0m\n\u001b[0;32m---> 28\u001b[0;31m         \u001b[0mself\u001b[0m\u001b[0;34m.\u001b[0m\u001b[0mresult\u001b[0m\u001b[0;34m,\u001b[0m \u001b[0mself\u001b[0m\u001b[0;34m.\u001b[0m\u001b[0msigma\u001b[0m\u001b[0;34m,\u001b[0m \u001b[0mself\u001b[0m\u001b[0;34m.\u001b[0m\u001b[0mkey\u001b[0m \u001b[0;34m=\u001b[0m \u001b[0mself\u001b[0m\u001b[0;34m.\u001b[0m\u001b[0mstartFittingProcess\u001b[0m\u001b[0;34m(\u001b[0m\u001b[0miquv\u001b[0m\u001b[0;34m,\u001b[0m \u001b[0mhd\u001b[0m\u001b[0;34m,\u001b[0m \u001b[0mimgrot\u001b[0m\u001b[0;34m,\u001b[0m \u001b[0mazimuth\u001b[0m\u001b[0;34m,\u001b[0m \u001b[0mmm45_flat\u001b[0m\u001b[0;34m,\u001b[0m \u001b[0mmatImageRotatorSeries\u001b[0m\u001b[0;34m,\u001b[0m \u001b[0mthreshold\u001b[0m\u001b[0;34m=\u001b[0m\u001b[0mthreshold\u001b[0m\u001b[0;34m,\u001b[0m \u001b[0mnCPU\u001b[0m\u001b[0;34m=\u001b[0m\u001b[0mnCPU\u001b[0m\u001b[0;34m)\u001b[0m\u001b[0;34m\u001b[0m\u001b[0m\n\u001b[0m\u001b[1;32m     29\u001b[0m \u001b[0;34m\u001b[0m\u001b[0m\n\u001b[1;32m     30\u001b[0m     \u001b[0;32mdef\u001b[0m \u001b[0mprepareFittingProcess\u001b[0m\u001b[0;34m(\u001b[0m\u001b[0mself\u001b[0m\u001b[0;34m,\u001b[0m \u001b[0mpathData\u001b[0m\u001b[0;34m,\u001b[0m \u001b[0mpathCamera01\u001b[0m\u001b[0;34m)\u001b[0m\u001b[0;34m:\u001b[0m\u001b[0;34m\u001b[0m\u001b[0m\n",
      "\u001b[0;32m/tmp_mnt/home/kouui/cloud_computing/dstsp/calibration/scipt_to_run_on_kipsua.py\u001b[0m in \u001b[0;36mstartFittingProcess\u001b[0;34m(self, iquv, hd, imgrot, azimuth, mm45_flat, matImageRotatorSeries, threshold, nCPU, isMap)\u001b[0m\n\u001b[1;32m    129\u001b[0m         \u001b[0mself\u001b[0m\u001b[0;34m.\u001b[0m\u001b[0miquv_mean\u001b[0m \u001b[0;34m=\u001b[0m \u001b[0miquv_mean\u001b[0m\u001b[0;34m\u001b[0m\u001b[0m\n\u001b[1;32m    130\u001b[0m \u001b[0;34m\u001b[0m\u001b[0m\n\u001b[0;32m--> 131\u001b[0;31m         \u001b[0mresult_mean\u001b[0m\u001b[0;34m,\u001b[0m \u001b[0mweight\u001b[0m\u001b[0;34m,\u001b[0m \u001b[0mkey\u001b[0m \u001b[0;34m=\u001b[0m \u001b[0mself\u001b[0m\u001b[0;34m.\u001b[0m\u001b[0mfitOneTimeSeries\u001b[0m\u001b[0;34m(\u001b[0m\u001b[0miquv_mean\u001b[0m\u001b[0;34m,\u001b[0m \u001b[0mhd\u001b[0m\u001b[0;34m,\u001b[0m \u001b[0mimgrot\u001b[0m\u001b[0;34m,\u001b[0m \u001b[0mazimuth\u001b[0m\u001b[0;34m,\u001b[0m \u001b[0mmm45_flat\u001b[0m\u001b[0;34m,\u001b[0m \u001b[0mmatImageRotatorSeries\u001b[0m\u001b[0;34m)\u001b[0m\u001b[0;34m\u001b[0m\u001b[0m\n\u001b[0m\u001b[1;32m    132\u001b[0m         \u001b[0mprint\u001b[0m\u001b[0;34m(\u001b[0m\u001b[0;34m\"Fitting iquv_mean complete.\"\u001b[0m\u001b[0;34m)\u001b[0m\u001b[0;34m\u001b[0m\u001b[0m\n\u001b[1;32m    133\u001b[0m \u001b[0;34m\u001b[0m\u001b[0m\n",
      "\u001b[0;32m/tmp_mnt/home/kouui/cloud_computing/dstsp/calibration/scipt_to_run_on_kipsua.py\u001b[0m in \u001b[0;36mfitOneTimeSeries\u001b[0;34m(self, iquv_one, hd, imgrot, azimuth, mm45_flat, matImageRotatorSeries)\u001b[0m\n\u001b[1;32m    168\u001b[0m \u001b[0;34m\u001b[0m\u001b[0m\n\u001b[1;32m    169\u001b[0m         \u001b[0;31m#--- start fitting\u001b[0m\u001b[0;34m\u001b[0m\u001b[0;34m\u001b[0m\u001b[0m\n\u001b[0;32m--> 170\u001b[0;31m         \u001b[0mresult\u001b[0m\u001b[0;34m,\u001b[0m \u001b[0mweight\u001b[0m\u001b[0;34m,\u001b[0m \u001b[0mkey\u001b[0m \u001b[0;34m=\u001b[0m \u001b[0mlmfitHSPCalibration\u001b[0m\u001b[0;34m(\u001b[0m\u001b[0miquv_one\u001b[0m\u001b[0;34m[\u001b[0m\u001b[0;34m:\u001b[0m\u001b[0;34m,\u001b[0m\u001b[0;36m1\u001b[0m\u001b[0;34m:\u001b[0m\u001b[0;34m]\u001b[0m\u001b[0;34m,\u001b[0m \u001b[0mhd\u001b[0m\u001b[0;34m,\u001b[0m \u001b[0mpar\u001b[0m\u001b[0;34m,\u001b[0m \u001b[0mimgrot\u001b[0m\u001b[0;34m,\u001b[0m \u001b[0mazimuth\u001b[0m\u001b[0;34m,\u001b[0m \u001b[0mmatImageRotatorSeries\u001b[0m\u001b[0;34m)\u001b[0m\u001b[0;34m\u001b[0m\u001b[0m\n\u001b[0m\u001b[1;32m    171\u001b[0m \u001b[0;34m\u001b[0m\u001b[0m\n\u001b[1;32m    172\u001b[0m         \u001b[0;32mreturn\u001b[0m \u001b[0mresult\u001b[0m\u001b[0;34m,\u001b[0m \u001b[0mweight\u001b[0m\u001b[0;34m,\u001b[0m \u001b[0mkey\u001b[0m\u001b[0;34m\u001b[0m\u001b[0m\n",
      "\u001b[0;32m/tmp_mnt/home/kouui/cloud_computing/dstsp/calibration/DSTPolarimeterLib.py\u001b[0m in \u001b[0;36mlmfitHSPCalibration\u001b[0;34m(quv, hd, par, imgrot, azimuth, matImageRotatorSeries)\u001b[0m\n\u001b[1;32m    196\u001b[0m \u001b[0;34m\u001b[0m\u001b[0m\n\u001b[1;32m    197\u001b[0m     \u001b[0mstartTime\u001b[0m \u001b[0;34m=\u001b[0m \u001b[0mdatetime\u001b[0m\u001b[0;34m.\u001b[0m\u001b[0mdatetime\u001b[0m\u001b[0;34m.\u001b[0m\u001b[0mnow\u001b[0m\u001b[0;34m(\u001b[0m\u001b[0;34m)\u001b[0m\u001b[0;34m\u001b[0m\u001b[0m\n\u001b[0;32m--> 198\u001b[0;31m     \u001b[0mresult\u001b[0m \u001b[0;34m=\u001b[0m \u001b[0mminimize\u001b[0m\u001b[0;34m(\u001b[0m\u001b[0mresidual\u001b[0m\u001b[0;34m,\u001b[0m \u001b[0mpar\u001b[0m\u001b[0;34m,\u001b[0m \u001b[0margs\u001b[0m\u001b[0;34m=\u001b[0m\u001b[0;34m(\u001b[0m\u001b[0mxx\u001b[0m\u001b[0;34m,\u001b[0m\u001b[0mmatImageRotatorSeries\u001b[0m\u001b[0;34m,\u001b[0m \u001b[0myy\u001b[0m\u001b[0;34m,\u001b[0m \u001b[0msigma\u001b[0m\u001b[0;34m)\u001b[0m\u001b[0;34m,\u001b[0m \u001b[0mmethod\u001b[0m\u001b[0;34m=\u001b[0m\u001b[0;34m'leastsq'\u001b[0m\u001b[0;34m)\u001b[0m\u001b[0;31m#, ftol=1E-7, xtol=1E-7)\u001b[0m\u001b[0;34m\u001b[0m\u001b[0m\n\u001b[0m\u001b[1;32m    199\u001b[0m     \u001b[0mendTime\u001b[0m \u001b[0;34m=\u001b[0m \u001b[0mdatetime\u001b[0m\u001b[0;34m.\u001b[0m\u001b[0mdatetime\u001b[0m\u001b[0;34m.\u001b[0m\u001b[0mnow\u001b[0m\u001b[0;34m(\u001b[0m\u001b[0;34m)\u001b[0m\u001b[0;34m\u001b[0m\u001b[0m\n\u001b[1;32m    200\u001b[0m     \u001b[0mprint\u001b[0m\u001b[0;34m(\u001b[0m\u001b[0;34m\"time used in fitting: \"\u001b[0m\u001b[0;34m,\u001b[0m\u001b[0;34m(\u001b[0m\u001b[0mendTime\u001b[0m\u001b[0;34m-\u001b[0m\u001b[0mstartTime\u001b[0m\u001b[0;34m)\u001b[0m\u001b[0;34m.\u001b[0m\u001b[0mtotal_seconds\u001b[0m\u001b[0;34m(\u001b[0m\u001b[0;34m)\u001b[0m\u001b[0;34m)\u001b[0m\u001b[0;34m\u001b[0m\u001b[0m\n",
      "\u001b[0;32m~/virtualenvs/python35/lib/python3.5/site-packages/lmfit/minimizer.py\u001b[0m in \u001b[0;36mminimize\u001b[0;34m(fcn, params, method, args, kws, scale_covar, iter_cb, reduce_fcn, **fit_kws)\u001b[0m\n\u001b[1;32m   1954\u001b[0m                        \u001b[0miter_cb\u001b[0m\u001b[0;34m=\u001b[0m\u001b[0miter_cb\u001b[0m\u001b[0;34m,\u001b[0m \u001b[0mscale_covar\u001b[0m\u001b[0;34m=\u001b[0m\u001b[0mscale_covar\u001b[0m\u001b[0;34m,\u001b[0m\u001b[0;34m\u001b[0m\u001b[0m\n\u001b[1;32m   1955\u001b[0m                        reduce_fcn=reduce_fcn, **fit_kws)\n\u001b[0;32m-> 1956\u001b[0;31m     \u001b[0;32mreturn\u001b[0m \u001b[0mfitter\u001b[0m\u001b[0;34m.\u001b[0m\u001b[0mminimize\u001b[0m\u001b[0;34m(\u001b[0m\u001b[0mmethod\u001b[0m\u001b[0;34m=\u001b[0m\u001b[0mmethod\u001b[0m\u001b[0;34m)\u001b[0m\u001b[0;34m\u001b[0m\u001b[0m\n\u001b[0m",
      "\u001b[0;32m~/virtualenvs/python35/lib/python3.5/site-packages/lmfit/minimizer.py\u001b[0m in \u001b[0;36mminimize\u001b[0;34m(self, method, params, **kws)\u001b[0m\n\u001b[1;32m   1647\u001b[0m                         val.lower().startswith(user_method)):\n\u001b[1;32m   1648\u001b[0m                     \u001b[0mkwargs\u001b[0m\u001b[0;34m[\u001b[0m\u001b[0;34m'method'\u001b[0m\u001b[0;34m]\u001b[0m \u001b[0;34m=\u001b[0m \u001b[0mval\u001b[0m\u001b[0;34m\u001b[0m\u001b[0m\n\u001b[0;32m-> 1649\u001b[0;31m         \u001b[0;32mreturn\u001b[0m \u001b[0mfunction\u001b[0m\u001b[0;34m(\u001b[0m\u001b[0;34m**\u001b[0m\u001b[0mkwargs\u001b[0m\u001b[0;34m)\u001b[0m\u001b[0;34m\u001b[0m\u001b[0m\n\u001b[0m\u001b[1;32m   1650\u001b[0m \u001b[0;34m\u001b[0m\u001b[0m\n\u001b[1;32m   1651\u001b[0m \u001b[0;34m\u001b[0m\u001b[0m\n",
      "\u001b[0;32m~/virtualenvs/python35/lib/python3.5/site-packages/lmfit/minimizer.py\u001b[0m in \u001b[0;36mleastsq\u001b[0;34m(self, params, **kws)\u001b[0m\n\u001b[1;32m   1300\u001b[0m         \u001b[0mnp\u001b[0m\u001b[0;34m.\u001b[0m\u001b[0mseterr\u001b[0m\u001b[0;34m(\u001b[0m\u001b[0mall\u001b[0m\u001b[0;34m=\u001b[0m\u001b[0;34m'ignore'\u001b[0m\u001b[0;34m)\u001b[0m\u001b[0;34m\u001b[0m\u001b[0m\n\u001b[1;32m   1301\u001b[0m \u001b[0;34m\u001b[0m\u001b[0m\n\u001b[0;32m-> 1302\u001b[0;31m         \u001b[0mlsout\u001b[0m \u001b[0;34m=\u001b[0m \u001b[0mscipy_leastsq\u001b[0m\u001b[0;34m(\u001b[0m\u001b[0mself\u001b[0m\u001b[0;34m.\u001b[0m\u001b[0m__residual\u001b[0m\u001b[0;34m,\u001b[0m \u001b[0mvars\u001b[0m\u001b[0;34m,\u001b[0m \u001b[0;34m**\u001b[0m\u001b[0mlskws\u001b[0m\u001b[0;34m)\u001b[0m\u001b[0;34m\u001b[0m\u001b[0m\n\u001b[0m\u001b[1;32m   1303\u001b[0m         \u001b[0m_best\u001b[0m\u001b[0;34m,\u001b[0m \u001b[0m_cov\u001b[0m\u001b[0;34m,\u001b[0m \u001b[0minfodict\u001b[0m\u001b[0;34m,\u001b[0m \u001b[0merrmsg\u001b[0m\u001b[0;34m,\u001b[0m \u001b[0mier\u001b[0m \u001b[0;34m=\u001b[0m \u001b[0mlsout\u001b[0m\u001b[0;34m\u001b[0m\u001b[0m\n\u001b[1;32m   1304\u001b[0m         \u001b[0mresult\u001b[0m\u001b[0;34m.\u001b[0m\u001b[0maborted\u001b[0m \u001b[0;34m=\u001b[0m \u001b[0mself\u001b[0m\u001b[0;34m.\u001b[0m\u001b[0m_abort\u001b[0m\u001b[0;34m\u001b[0m\u001b[0m\n",
      "\u001b[0;32m~/virtualenvs/python35/lib/python3.5/site-packages/scipy/optimize/minpack.py\u001b[0m in \u001b[0;36mleastsq\u001b[0;34m(func, x0, args, Dfun, full_output, col_deriv, ftol, xtol, gtol, maxfev, epsfcn, factor, diag)\u001b[0m\n\u001b[1;32m    375\u001b[0m     \u001b[0;32mif\u001b[0m \u001b[0;32mnot\u001b[0m \u001b[0misinstance\u001b[0m\u001b[0;34m(\u001b[0m\u001b[0margs\u001b[0m\u001b[0;34m,\u001b[0m \u001b[0mtuple\u001b[0m\u001b[0;34m)\u001b[0m\u001b[0;34m:\u001b[0m\u001b[0;34m\u001b[0m\u001b[0m\n\u001b[1;32m    376\u001b[0m         \u001b[0margs\u001b[0m \u001b[0;34m=\u001b[0m \u001b[0;34m(\u001b[0m\u001b[0margs\u001b[0m\u001b[0;34m,\u001b[0m\u001b[0;34m)\u001b[0m\u001b[0;34m\u001b[0m\u001b[0m\n\u001b[0;32m--> 377\u001b[0;31m     \u001b[0mshape\u001b[0m\u001b[0;34m,\u001b[0m \u001b[0mdtype\u001b[0m \u001b[0;34m=\u001b[0m \u001b[0m_check_func\u001b[0m\u001b[0;34m(\u001b[0m\u001b[0;34m'leastsq'\u001b[0m\u001b[0;34m,\u001b[0m \u001b[0;34m'func'\u001b[0m\u001b[0;34m,\u001b[0m \u001b[0mfunc\u001b[0m\u001b[0;34m,\u001b[0m \u001b[0mx0\u001b[0m\u001b[0;34m,\u001b[0m \u001b[0margs\u001b[0m\u001b[0;34m,\u001b[0m \u001b[0mn\u001b[0m\u001b[0;34m)\u001b[0m\u001b[0;34m\u001b[0m\u001b[0m\n\u001b[0m\u001b[1;32m    378\u001b[0m     \u001b[0mm\u001b[0m \u001b[0;34m=\u001b[0m \u001b[0mshape\u001b[0m\u001b[0;34m[\u001b[0m\u001b[0;36m0\u001b[0m\u001b[0;34m]\u001b[0m\u001b[0;34m\u001b[0m\u001b[0m\n\u001b[1;32m    379\u001b[0m     \u001b[0;32mif\u001b[0m \u001b[0mn\u001b[0m \u001b[0;34m>\u001b[0m \u001b[0mm\u001b[0m\u001b[0;34m:\u001b[0m\u001b[0;34m\u001b[0m\u001b[0m\n",
      "\u001b[0;32m~/virtualenvs/python35/lib/python3.5/site-packages/scipy/optimize/minpack.py\u001b[0m in \u001b[0;36m_check_func\u001b[0;34m(checker, argname, thefunc, x0, args, numinputs, output_shape)\u001b[0m\n\u001b[1;32m     24\u001b[0m def _check_func(checker, argname, thefunc, x0, args, numinputs,\n\u001b[1;32m     25\u001b[0m                 output_shape=None):\n\u001b[0;32m---> 26\u001b[0;31m     \u001b[0mres\u001b[0m \u001b[0;34m=\u001b[0m \u001b[0matleast_1d\u001b[0m\u001b[0;34m(\u001b[0m\u001b[0mthefunc\u001b[0m\u001b[0;34m(\u001b[0m\u001b[0;34m*\u001b[0m\u001b[0;34m(\u001b[0m\u001b[0;34m(\u001b[0m\u001b[0mx0\u001b[0m\u001b[0;34m[\u001b[0m\u001b[0;34m:\u001b[0m\u001b[0mnuminputs\u001b[0m\u001b[0;34m]\u001b[0m\u001b[0;34m,\u001b[0m\u001b[0;34m)\u001b[0m \u001b[0;34m+\u001b[0m \u001b[0margs\u001b[0m\u001b[0;34m)\u001b[0m\u001b[0;34m)\u001b[0m\u001b[0;34m)\u001b[0m\u001b[0;34m\u001b[0m\u001b[0m\n\u001b[0m\u001b[1;32m     27\u001b[0m     \u001b[0;32mif\u001b[0m \u001b[0;34m(\u001b[0m\u001b[0moutput_shape\u001b[0m \u001b[0;32mis\u001b[0m \u001b[0;32mnot\u001b[0m \u001b[0;32mNone\u001b[0m\u001b[0;34m)\u001b[0m \u001b[0;32mand\u001b[0m \u001b[0;34m(\u001b[0m\u001b[0mshape\u001b[0m\u001b[0;34m(\u001b[0m\u001b[0mres\u001b[0m\u001b[0;34m)\u001b[0m \u001b[0;34m!=\u001b[0m \u001b[0moutput_shape\u001b[0m\u001b[0;34m)\u001b[0m\u001b[0;34m:\u001b[0m\u001b[0;34m\u001b[0m\u001b[0m\n\u001b[1;32m     28\u001b[0m         \u001b[0;32mif\u001b[0m \u001b[0;34m(\u001b[0m\u001b[0moutput_shape\u001b[0m\u001b[0;34m[\u001b[0m\u001b[0;36m0\u001b[0m\u001b[0;34m]\u001b[0m \u001b[0;34m!=\u001b[0m \u001b[0;36m1\u001b[0m\u001b[0;34m)\u001b[0m\u001b[0;34m:\u001b[0m\u001b[0;34m\u001b[0m\u001b[0m\n",
      "\u001b[0;32m~/virtualenvs/python35/lib/python3.5/site-packages/lmfit/minimizer.py\u001b[0m in \u001b[0;36m__residual\u001b[0;34m(self, fvars, apply_bounds_transformation)\u001b[0m\n\u001b[1;32m    486\u001b[0m         \u001b[0mself\u001b[0m\u001b[0;34m.\u001b[0m\u001b[0mresult\u001b[0m\u001b[0;34m.\u001b[0m\u001b[0mnfev\u001b[0m \u001b[0;34m+=\u001b[0m \u001b[0;36m1\u001b[0m\u001b[0;34m\u001b[0m\u001b[0m\n\u001b[1;32m    487\u001b[0m \u001b[0;34m\u001b[0m\u001b[0m\n\u001b[0;32m--> 488\u001b[0;31m         \u001b[0mout\u001b[0m \u001b[0;34m=\u001b[0m \u001b[0mself\u001b[0m\u001b[0;34m.\u001b[0m\u001b[0muserfcn\u001b[0m\u001b[0;34m(\u001b[0m\u001b[0mparams\u001b[0m\u001b[0;34m,\u001b[0m \u001b[0;34m*\u001b[0m\u001b[0mself\u001b[0m\u001b[0;34m.\u001b[0m\u001b[0muserargs\u001b[0m\u001b[0;34m,\u001b[0m \u001b[0;34m**\u001b[0m\u001b[0mself\u001b[0m\u001b[0;34m.\u001b[0m\u001b[0muserkws\u001b[0m\u001b[0;34m)\u001b[0m\u001b[0;34m\u001b[0m\u001b[0m\n\u001b[0m\u001b[1;32m    489\u001b[0m         \u001b[0mout\u001b[0m \u001b[0;34m=\u001b[0m \u001b[0m_nan_policy\u001b[0m\u001b[0;34m(\u001b[0m\u001b[0mout\u001b[0m\u001b[0;34m,\u001b[0m \u001b[0mnan_policy\u001b[0m\u001b[0;34m=\u001b[0m\u001b[0mself\u001b[0m\u001b[0;34m.\u001b[0m\u001b[0mnan_policy\u001b[0m\u001b[0;34m)\u001b[0m\u001b[0;34m\u001b[0m\u001b[0m\n\u001b[1;32m    490\u001b[0m \u001b[0;34m\u001b[0m\u001b[0m\n",
      "\u001b[0;32m/tmp_mnt/home/kouui/cloud_computing/dstsp/calibration/DSTPolarimeterLib.py\u001b[0m in \u001b[0;36mresidual\u001b[0;34m(par, x, matSeries, data, sigma)\u001b[0m\n\u001b[1;32m    210\u001b[0m     \u001b[0mpdb\u001b[0m\u001b[0;34m.\u001b[0m\u001b[0mset_trace\u001b[0m\u001b[0;34m(\u001b[0m\u001b[0;34m)\u001b[0m\u001b[0;34m\u001b[0m\u001b[0m\n\u001b[1;32m    211\u001b[0m \u001b[0;34m\u001b[0m\u001b[0m\n\u001b[0;32m--> 212\u001b[0;31m     \u001b[0;32mreturn\u001b[0m \u001b[0;34m(\u001b[0m\u001b[0my_model\u001b[0m\u001b[0;34m-\u001b[0m\u001b[0mdata\u001b[0m\u001b[0;34m)\u001b[0m\u001b[0;34m/\u001b[0m\u001b[0msigma\u001b[0m\u001b[0;34m\u001b[0m\u001b[0m\n\u001b[0m\u001b[1;32m    213\u001b[0m \u001b[0;34m\u001b[0m\u001b[0m\n\u001b[1;32m    214\u001b[0m \u001b[0;32mdef\u001b[0m \u001b[0mmodel\u001b[0m\u001b[0;34m(\u001b[0m\u001b[0mpar\u001b[0m\u001b[0;34m,\u001b[0m \u001b[0mx\u001b[0m\u001b[0;34m,\u001b[0m \u001b[0mmatSeries\u001b[0m\u001b[0;34m)\u001b[0m\u001b[0;34m:\u001b[0m\u001b[0;34m\u001b[0m\u001b[0m\n",
      "\u001b[0;32m/tmp_mnt/home/kouui/cloud_computing/dstsp/calibration/DSTPolarimeterLib.py\u001b[0m in \u001b[0;36mresidual\u001b[0;34m(par, x, matSeries, data, sigma)\u001b[0m\n\u001b[1;32m    210\u001b[0m     \u001b[0mpdb\u001b[0m\u001b[0;34m.\u001b[0m\u001b[0mset_trace\u001b[0m\u001b[0;34m(\u001b[0m\u001b[0;34m)\u001b[0m\u001b[0;34m\u001b[0m\u001b[0m\n\u001b[1;32m    211\u001b[0m \u001b[0;34m\u001b[0m\u001b[0m\n\u001b[0;32m--> 212\u001b[0;31m     \u001b[0;32mreturn\u001b[0m \u001b[0;34m(\u001b[0m\u001b[0my_model\u001b[0m\u001b[0;34m-\u001b[0m\u001b[0mdata\u001b[0m\u001b[0;34m)\u001b[0m\u001b[0;34m/\u001b[0m\u001b[0msigma\u001b[0m\u001b[0;34m\u001b[0m\u001b[0m\n\u001b[0m\u001b[1;32m    213\u001b[0m \u001b[0;34m\u001b[0m\u001b[0m\n\u001b[1;32m    214\u001b[0m \u001b[0;32mdef\u001b[0m \u001b[0mmodel\u001b[0m\u001b[0;34m(\u001b[0m\u001b[0mpar\u001b[0m\u001b[0;34m,\u001b[0m \u001b[0mx\u001b[0m\u001b[0;34m,\u001b[0m \u001b[0mmatSeries\u001b[0m\u001b[0;34m)\u001b[0m\u001b[0;34m:\u001b[0m\u001b[0;34m\u001b[0m\u001b[0m\n",
      "\u001b[0;32m/opt/rh/rh-python35/root/usr/lib64/python3.5/bdb.py\u001b[0m in \u001b[0;36mtrace_dispatch\u001b[0;34m(self, frame, event, arg)\u001b[0m\n\u001b[1;32m     46\u001b[0m             \u001b[0;32mreturn\u001b[0m \u001b[0;31m# None\u001b[0m\u001b[0;34m\u001b[0m\u001b[0m\n\u001b[1;32m     47\u001b[0m         \u001b[0;32mif\u001b[0m \u001b[0mevent\u001b[0m \u001b[0;34m==\u001b[0m \u001b[0;34m'line'\u001b[0m\u001b[0;34m:\u001b[0m\u001b[0;34m\u001b[0m\u001b[0m\n\u001b[0;32m---> 48\u001b[0;31m             \u001b[0;32mreturn\u001b[0m \u001b[0mself\u001b[0m\u001b[0;34m.\u001b[0m\u001b[0mdispatch_line\u001b[0m\u001b[0;34m(\u001b[0m\u001b[0mframe\u001b[0m\u001b[0;34m)\u001b[0m\u001b[0;34m\u001b[0m\u001b[0m\n\u001b[0m\u001b[1;32m     49\u001b[0m         \u001b[0;32mif\u001b[0m \u001b[0mevent\u001b[0m \u001b[0;34m==\u001b[0m \u001b[0;34m'call'\u001b[0m\u001b[0;34m:\u001b[0m\u001b[0;34m\u001b[0m\u001b[0m\n\u001b[1;32m     50\u001b[0m             \u001b[0;32mreturn\u001b[0m \u001b[0mself\u001b[0m\u001b[0;34m.\u001b[0m\u001b[0mdispatch_call\u001b[0m\u001b[0;34m(\u001b[0m\u001b[0mframe\u001b[0m\u001b[0;34m,\u001b[0m \u001b[0marg\u001b[0m\u001b[0;34m)\u001b[0m\u001b[0;34m\u001b[0m\u001b[0m\n",
      "\u001b[0;32m/opt/rh/rh-python35/root/usr/lib64/python3.5/bdb.py\u001b[0m in \u001b[0;36mdispatch_line\u001b[0;34m(self, frame)\u001b[0m\n\u001b[1;32m     65\u001b[0m         \u001b[0;32mif\u001b[0m \u001b[0mself\u001b[0m\u001b[0;34m.\u001b[0m\u001b[0mstop_here\u001b[0m\u001b[0;34m(\u001b[0m\u001b[0mframe\u001b[0m\u001b[0;34m)\u001b[0m \u001b[0;32mor\u001b[0m \u001b[0mself\u001b[0m\u001b[0;34m.\u001b[0m\u001b[0mbreak_here\u001b[0m\u001b[0;34m(\u001b[0m\u001b[0mframe\u001b[0m\u001b[0;34m)\u001b[0m\u001b[0;34m:\u001b[0m\u001b[0;34m\u001b[0m\u001b[0m\n\u001b[1;32m     66\u001b[0m             \u001b[0mself\u001b[0m\u001b[0;34m.\u001b[0m\u001b[0muser_line\u001b[0m\u001b[0;34m(\u001b[0m\u001b[0mframe\u001b[0m\u001b[0;34m)\u001b[0m\u001b[0;34m\u001b[0m\u001b[0m\n\u001b[0;32m---> 67\u001b[0;31m             \u001b[0;32mif\u001b[0m \u001b[0mself\u001b[0m\u001b[0;34m.\u001b[0m\u001b[0mquitting\u001b[0m\u001b[0;34m:\u001b[0m \u001b[0;32mraise\u001b[0m \u001b[0mBdbQuit\u001b[0m\u001b[0;34m\u001b[0m\u001b[0m\n\u001b[0m\u001b[1;32m     68\u001b[0m         \u001b[0;32mreturn\u001b[0m \u001b[0mself\u001b[0m\u001b[0;34m.\u001b[0m\u001b[0mtrace_dispatch\u001b[0m\u001b[0;34m\u001b[0m\u001b[0m\n\u001b[1;32m     69\u001b[0m \u001b[0;34m\u001b[0m\u001b[0m\n",
      "\u001b[0;31mBdbQuit\u001b[0m: "
     ]
    }
   ],
   "source": [
    "%run scipt_to_run_on_kipsua.py /nwork/kouui/dstsp/data/calibration/20171128/camera01/cale_iquv0000 /nwork/kouui/dstsp/data/calibration/20171128/camera01/cale_iquv0000"
   ]
  },
  {
   "cell_type": "markdown",
   "metadata": {},
   "source": [
    "---"
   ]
  },
  {
   "cell_type": "markdown",
   "metadata": {},
   "source": [
    "# progress\n",
    "\n",
    "1. `MuellerMatrixMirror` ok.\n",
    "2. `MuellerMatrixWaveplate` ok.\n",
    "3. `MuellerMatrixRotation` ok.\n",
    "4. `parameterMMSP2Mirror` ok.\n",
    "5. `parameterDST` ok."
   ]
  }
 ],
 "metadata": {
  "kernelspec": {
   "display_name": "Python 3",
   "language": "python",
   "name": "python3"
  },
  "language_info": {
   "codemirror_mode": {
    "name": "ipython",
    "version": 3
   },
   "file_extension": ".py",
   "mimetype": "text/x-python",
   "name": "python",
   "nbconvert_exporter": "python",
   "pygments_lexer": "ipython3",
   "version": "3.5.1"
  },
  "toc": {
   "nav_menu": {},
   "number_sections": false,
   "sideBar": true,
   "skip_h1_title": false,
   "toc_cell": false,
   "toc_position": {},
   "toc_section_display": "block",
   "toc_window_display": false
  }
 },
 "nbformat": 4,
 "nbformat_minor": 2
}
